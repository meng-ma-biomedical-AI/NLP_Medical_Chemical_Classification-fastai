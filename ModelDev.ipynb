{
 "cells": [
  {
   "cell_type": "code",
   "execution_count": 1,
   "metadata": {},
   "outputs": [],
   "source": [
    "import pandas as pd\n",
    "import numpy as np\n",
    "import random\n",
    "import fastai\n",
    "from fastai.text import *\n",
    "from fastai.callbacks import *\n",
    "torch.cuda.set_device(0)"
   ]
  },
  {
   "cell_type": "markdown",
   "metadata": {},
   "source": [
    "### Create sample dataset"
   ]
  },
  {
   "cell_type": "code",
   "execution_count": 2,
   "metadata": {},
   "outputs": [],
   "source": [
    "# df = pd.read_pickle(\"pickle/master_frame.pkl\")\n",
    "# df_trimmed = df[[\"title\", 'abstract', 'chemicals']].dropna()\n",
    "# df_trimmed.to_pickle(\"pickle/master_frame_trimmed.pkl\")\n",
    "\n",
    "# df_trimmed = pd.read_pickle(\"pickle/master_frame_trimmed.pkl\")\n",
    "# df_sample_10000 = df_trimmed.sample(n=10000, random_state=1)\n",
    "# df_sample_10000.to_pickle(\"pickle/master_frame_sample_10000.pkl\")\n",
    "\n",
    "# df_trimmed = pd.read_pickle(\"pickle/master_frame_trimmed.pkl\")\n",
    "# df_sample_20000 = df_trimmed.sample(n=20000, random_state=1)\n",
    "# df_sample_20000.to_pickle(\"pickle/master_frame_sample_20000.pkl\")\n",
    "\n",
    "# df_trimmed = pd.read_pickle(\"pickle/master_frame_trimmed.pkl\")\n",
    "# df_sample_50000 = df_trimmed.sample(n=50000, random_state=1)\n",
    "# df_sample_50000.to_pickle(\"pickle/master_frame_sample_50000.pkl\")\n",
    "\n",
    "# df_trimmed = pd.read_pickle(\"pickle/master_frame_trimmed.pkl\")\n",
    "# df_sample_100000 = df_trimmed.sample(n=100000, random_state=1)\n",
    "# df_sample_100000.to_pickle(\"pickle/master_frame_sample_100000.pkl\")"
   ]
  },
  {
   "cell_type": "markdown",
   "metadata": {},
   "source": [
    "### Create FastAI data bunch"
   ]
  },
  {
   "cell_type": "code",
   "execution_count": 3,
   "metadata": {},
   "outputs": [],
   "source": [
    "def create_data_bunches(num_samples, split):\n",
    "    # Create Language Model DataBunch\n",
    "    print(f\"Creating Language Model DataBunch - (Samples : {num_samples})\")\n",
    "    version = f\"sample_{num_samples}\"\n",
    "    df_sample = pd.read_pickle(f\"pickle/master_frame_{version}.pkl\")\n",
    "\n",
    "    X = df_sample[:int(len(df_sample)*split)]\n",
    "    y = df_sample[int(len(df_sample)*(1-split)):]\n",
    "\n",
    "    data_lm = TextLMDataBunch.from_df(path=\"fastai\", train_df=X, valid_df=y)\n",
    "\n",
    "    data_lm.save(f'../pickle/data_lm_{version}.pkl')\n",
    "    \n",
    "    # Create Classification DataBunch\n",
    "    print(f\"Creating Classification DataBunch - (Samples : {num_samples})\")\n",
    "    df_sample.drop(\"title\", axis=1, inplace=True)\n",
    "    df_sample.columns = ['text', 'target']\n",
    "    df_sample = df_sample[['target', 'text']]\n",
    "\n",
    "    X = df_sample[:int(len(df_sample)*split)]\n",
    "    y = df_sample[int(len(df_sample)*(1-split)):]\n",
    "\n",
    "    data_clas = TextClasDataBunch.from_df(path=\"fastai\", train_df=X, valid_df=y, vocab=data_lm.vocab)\n",
    "    data_clas.save(f'../pickle/data_clas_{version}.pkl')"
   ]
  },
  {
   "cell_type": "code",
   "execution_count": 4,
   "metadata": {},
   "outputs": [],
   "source": [
    "# all_samples = [10000, 20000, 50000, 100000]\n",
    "# for samples in all_samples:\n",
    "#     create_data_bunches(samples, 0.5)"
   ]
  },
  {
   "cell_type": "markdown",
   "metadata": {},
   "source": [
    "### Train Language Model"
   ]
  },
  {
   "cell_type": "code",
   "execution_count": 5,
   "metadata": {},
   "outputs": [],
   "source": [
    "def get_rand_params(params):\n",
    "    rand_params = {}\n",
    "    for name, param in params.items():\n",
    "        if type(param) == list:\n",
    "            rand_params.update({name : int(np.random.choice(param))})\n",
    "        elif type(param) == tuple:\n",
    "            rand_params.update({name : float(random.uniform(param[0], param[1]))})\n",
    "        else:\n",
    "            rand_params.update({name : param})\n",
    "    return rand_params\n",
    "\n",
    "def get_min_grad(model):\n",
    "    model.lr_find(num_it=200)\n",
    "    model.recorder.plot(suggestion=True)\n",
    "    return model.recorder.min_grad_lr\n",
    "\n",
    "def train_lm_model(bs, drop_mult, epochs, num_samples):\n",
    "    # Load data\n",
    "    version = f\"sample_{num_samples}.pkl\"\n",
    "    data_lm = load_data(\"pickle\", f'data_lm_{version}', bs=bs)\n",
    "\n",
    "    # Define metrics\n",
    "    metrics = [accuracy]\n",
    "\n",
    "    # Define model callbacks\n",
    "    early_stop = partial(EarlyStoppingCallback,\n",
    "                         monitor='accuracy',\n",
    "                         mode=\"max\",\n",
    "                         min_delta=0.01,\n",
    "                         patience=5)\n",
    "    graph = ShowGraph\n",
    "    callback_fns = [early_stop]#, graph]\n",
    "\n",
    "    # Define language model\n",
    "    learn_lm = language_model_learner(data_lm,\n",
    "                                      AWD_LSTM,\n",
    "                                      drop_mult=drop_mult,\n",
    "                                      metrics=metrics,\n",
    "                                      callback_fns=callback_fns).to_fp16()\n",
    "    \n",
    "    # Define training callback\n",
    "    model_name = f\"learn_lm_{version}_bs_{bs}_dropmult_{drop_mult}\"\n",
    "    model_enc_name = f\"learn_lm_enc_{version}_bs_{bs}_dropmult_{drop_mult}\"\n",
    "    save_best = SaveModelCallback(learn_lm,\n",
    "                                  every='improvement',\n",
    "                                  monitor=\"accuracy\",\n",
    "                                  mode=\"max\",\n",
    "                                  name=model_name)\n",
    "    callbacks = [save_best]\n",
    "\n",
    "    # Train\n",
    "    min_grad = get_min_grad(learn_lm)\n",
    "    learn_lm.fit_one_cycle(1, min_grad, callbacks=callbacks)\n",
    "    learn_lm.unfreeze()\n",
    "\n",
    "    min_grad = get_min_grad(learn_lm)\n",
    "    learn_lm.fit_one_cycle(epochs, slice(min_grad,min_grad*100), moms=(0.8,0.7), callbacks=callbacks)\n",
    "    \n",
    "    # Get accuracy\n",
    "    best_acc = max([i[0] for i in learn_lm.recorder.metrics]).item()\n",
    "    \n",
    "    # Load best model\n",
    "    learn_lm.load(model_name)\n",
    "    \n",
    "    # Save encoding\n",
    "    learn_lm.save_encoder(model_enc_name)\n",
    "    \n",
    "    return (best_acc, model_name, model_enc_name, learn_lm, data_lm)\n",
    "\n",
    "def hyper_param_lm_search(num_runs, params):\n",
    "    param_log = []\n",
    "    run_log = []\n",
    "    \n",
    "    for i in range(num_runs):\n",
    "        print(f\"RUN {i + 1} of {num_runs}\")\n",
    "        rand_params = get_rand_params(params)\n",
    "        param_log.append(rand_params)\n",
    "        run_result = train_lm_model(**rand_params)\n",
    "        run_log.append(run_result)\n",
    "        \n",
    "    best_run = np.argmax([i[0] for i in run_log])\n",
    "        \n",
    "    return (param_log[best_run], run_log[best_run])"
   ]
  },
  {
   "cell_type": "code",
   "execution_count": 6,
   "metadata": {},
   "outputs": [],
   "source": [
    "# params = {\"bs\" : 64,\n",
    "#           \"drop_mult\" : 0.5,\n",
    "#           \"epochs\" : 10,\n",
    "#           \"num_samples\" : 10000}"
   ]
  },
  {
   "cell_type": "code",
   "execution_count": 7,
   "metadata": {},
   "outputs": [],
   "source": [
    "params = {\"bs\" : [32, 64, 128],\n",
    "          \"drop_mult\" : (0.2, 0.7),\n",
    "          \"epochs\" : 1,\n",
    "          \"num_samples\" : 50000}"
   ]
  },
  {
   "cell_type": "code",
   "execution_count": 15,
   "metadata": {},
   "outputs": [
    {
     "data": {
      "text/plain": [
       "(3, 4)"
      ]
     },
     "execution_count": 15,
     "metadata": {},
     "output_type": "execute_result"
    }
   ],
   "source": [
    "tuple([3,4])"
   ]
  },
  {
   "cell_type": "code",
   "execution_count": 8,
   "metadata": {},
   "outputs": [],
   "source": [
    "import json"
   ]
  },
  {
   "cell_type": "code",
   "execution_count": 13,
   "metadata": {},
   "outputs": [],
   "source": [
    "with open(\"artifacts/test.json\", \"w+\") as f:\n",
    "    f.write(json.dumps(params))"
   ]
  },
  {
   "cell_type": "code",
   "execution_count": 8,
   "metadata": {},
   "outputs": [
    {
     "name": "stdout",
     "output_type": "stream",
     "text": [
      "RUN 1 of 3\n"
     ]
    },
    {
     "data": {
      "text/html": [
       "\n",
       "    <div>\n",
       "        <style>\n",
       "            /* Turns off some styling */\n",
       "            progress {\n",
       "                /* gets rid of default border in Firefox and Opera. */\n",
       "                border: none;\n",
       "                /* Needs to be in here for Safari polyfill so background images work as expected. */\n",
       "                background-size: auto;\n",
       "            }\n",
       "            .progress-bar-interrupted, .progress-bar-interrupted::-webkit-progress-bar {\n",
       "                background: #F44336;\n",
       "            }\n",
       "        </style>\n",
       "      <progress value='0' class='' max='1' style='width:300px; height:20px; vertical-align: middle;'></progress>\n",
       "      0.00% [0/1 00:00<00:00]\n",
       "    </div>\n",
       "    \n",
       "<table border=\"1\" class=\"dataframe\">\n",
       "  <thead>\n",
       "    <tr style=\"text-align: left;\">\n",
       "      <th>epoch</th>\n",
       "      <th>train_loss</th>\n",
       "      <th>valid_loss</th>\n",
       "      <th>accuracy</th>\n",
       "      <th>time</th>\n",
       "    </tr>\n",
       "  </thead>\n",
       "  <tbody>\n",
       "  </tbody>\n",
       "</table><p>\n",
       "\n",
       "    <div>\n",
       "        <style>\n",
       "            /* Turns off some styling */\n",
       "            progress {\n",
       "                /* gets rid of default border in Firefox and Opera. */\n",
       "                border: none;\n",
       "                /* Needs to be in here for Safari polyfill so background images work as expected. */\n",
       "                background-size: auto;\n",
       "            }\n",
       "            .progress-bar-interrupted, .progress-bar-interrupted::-webkit-progress-bar {\n",
       "                background: #F44336;\n",
       "            }\n",
       "        </style>\n",
       "      <progress value='198' class='' max='558' style='width:300px; height:20px; vertical-align: middle;'></progress>\n",
       "      35.48% [198/558 00:22<00:40 19.8382]\n",
       "    </div>\n",
       "    "
      ],
      "text/plain": [
       "<IPython.core.display.HTML object>"
      ]
     },
     "metadata": {},
     "output_type": "display_data"
    },
    {
     "name": "stdout",
     "output_type": "stream",
     "text": [
      "LR Finder is complete, type {learner_name}.recorder.plot() to see the graph.\n",
      "Min numerical gradient: 3.02E-07\n",
      "Min loss divided by 10: 8.32E-03\n"
     ]
    },
    {
     "data": {
      "text/html": [
       "<table border=\"1\" class=\"dataframe\">\n",
       "  <thead>\n",
       "    <tr style=\"text-align: left;\">\n",
       "      <th>epoch</th>\n",
       "      <th>train_loss</th>\n",
       "      <th>valid_loss</th>\n",
       "      <th>accuracy</th>\n",
       "      <th>time</th>\n",
       "    </tr>\n",
       "  </thead>\n",
       "  <tbody>\n",
       "    <tr>\n",
       "      <td>0</td>\n",
       "      <td>5.381798</td>\n",
       "      <td>5.130618</td>\n",
       "      <td>0.268420</td>\n",
       "      <td>01:29</td>\n",
       "    </tr>\n",
       "  </tbody>\n",
       "</table>"
      ],
      "text/plain": [
       "<IPython.core.display.HTML object>"
      ]
     },
     "metadata": {},
     "output_type": "display_data"
    },
    {
     "name": "stdout",
     "output_type": "stream",
     "text": [
      "Better model found at epoch 0 with accuracy value: 0.26841992139816284.\n"
     ]
    },
    {
     "data": {
      "text/html": [
       "\n",
       "    <div>\n",
       "        <style>\n",
       "            /* Turns off some styling */\n",
       "            progress {\n",
       "                /* gets rid of default border in Firefox and Opera. */\n",
       "                border: none;\n",
       "                /* Needs to be in here for Safari polyfill so background images work as expected. */\n",
       "                background-size: auto;\n",
       "            }\n",
       "            .progress-bar-interrupted, .progress-bar-interrupted::-webkit-progress-bar {\n",
       "                background: #F44336;\n",
       "            }\n",
       "        </style>\n",
       "      <progress value='0' class='' max='1' style='width:300px; height:20px; vertical-align: middle;'></progress>\n",
       "      0.00% [0/1 00:00<00:00]\n",
       "    </div>\n",
       "    \n",
       "<table border=\"1\" class=\"dataframe\">\n",
       "  <thead>\n",
       "    <tr style=\"text-align: left;\">\n",
       "      <th>epoch</th>\n",
       "      <th>train_loss</th>\n",
       "      <th>valid_loss</th>\n",
       "      <th>accuracy</th>\n",
       "      <th>time</th>\n",
       "    </tr>\n",
       "  </thead>\n",
       "  <tbody>\n",
       "  </tbody>\n",
       "</table><p>\n",
       "\n",
       "    <div>\n",
       "        <style>\n",
       "            /* Turns off some styling */\n",
       "            progress {\n",
       "                /* gets rid of default border in Firefox and Opera. */\n",
       "                border: none;\n",
       "                /* Needs to be in here for Safari polyfill so background images work as expected. */\n",
       "                background-size: auto;\n",
       "            }\n",
       "            .progress-bar-interrupted, .progress-bar-interrupted::-webkit-progress-bar {\n",
       "                background: #F44336;\n",
       "            }\n",
       "        </style>\n",
       "      <progress value='179' class='' max='558' style='width:300px; height:20px; vertical-align: middle;'></progress>\n",
       "      32.08% [179/558 00:21<00:45 9.5514]\n",
       "    </div>\n",
       "    "
      ],
      "text/plain": [
       "<IPython.core.display.HTML object>"
      ]
     },
     "metadata": {},
     "output_type": "display_data"
    },
    {
     "name": "stdout",
     "output_type": "stream",
     "text": [
      "LR Finder is complete, type {learner_name}.recorder.plot() to see the graph.\n",
      "Min numerical gradient: 2.29E-03\n",
      "Min loss divided by 10: 2.51E-03\n"
     ]
    },
    {
     "data": {
      "text/html": [
       "<table border=\"1\" class=\"dataframe\">\n",
       "  <thead>\n",
       "    <tr style=\"text-align: left;\">\n",
       "      <th>epoch</th>\n",
       "      <th>train_loss</th>\n",
       "      <th>valid_loss</th>\n",
       "      <th>accuracy</th>\n",
       "      <th>time</th>\n",
       "    </tr>\n",
       "  </thead>\n",
       "  <tbody>\n",
       "    <tr>\n",
       "      <td>0</td>\n",
       "      <td>7.610916</td>\n",
       "      <td>6.379268</td>\n",
       "      <td>0.308536</td>\n",
       "      <td>01:34</td>\n",
       "    </tr>\n",
       "  </tbody>\n",
       "</table>"
      ],
      "text/plain": [
       "<IPython.core.display.HTML object>"
      ]
     },
     "metadata": {},
     "output_type": "display_data"
    },
    {
     "name": "stdout",
     "output_type": "stream",
     "text": [
      "Better model found at epoch 0 with accuracy value: 0.3085363507270813.\n",
      "RUN 2 of 3\n"
     ]
    },
    {
     "data": {
      "text/html": [
       "\n",
       "    <div>\n",
       "        <style>\n",
       "            /* Turns off some styling */\n",
       "            progress {\n",
       "                /* gets rid of default border in Firefox and Opera. */\n",
       "                border: none;\n",
       "                /* Needs to be in here for Safari polyfill so background images work as expected. */\n",
       "                background-size: auto;\n",
       "            }\n",
       "            .progress-bar-interrupted, .progress-bar-interrupted::-webkit-progress-bar {\n",
       "                background: #F44336;\n",
       "            }\n",
       "        </style>\n",
       "      <progress value='0' class='' max='1' style='width:300px; height:20px; vertical-align: middle;'></progress>\n",
       "      0.00% [0/1 00:00<00:00]\n",
       "    </div>\n",
       "    \n",
       "<table border=\"1\" class=\"dataframe\">\n",
       "  <thead>\n",
       "    <tr style=\"text-align: left;\">\n",
       "      <th>epoch</th>\n",
       "      <th>train_loss</th>\n",
       "      <th>valid_loss</th>\n",
       "      <th>accuracy</th>\n",
       "      <th>time</th>\n",
       "    </tr>\n",
       "  </thead>\n",
       "  <tbody>\n",
       "  </tbody>\n",
       "</table><p>\n",
       "\n",
       "    <div>\n",
       "        <style>\n",
       "            /* Turns off some styling */\n",
       "            progress {\n",
       "                /* gets rid of default border in Firefox and Opera. */\n",
       "                border: none;\n",
       "                /* Needs to be in here for Safari polyfill so background images work as expected. */\n",
       "                background-size: auto;\n",
       "            }\n",
       "            .progress-bar-interrupted, .progress-bar-interrupted::-webkit-progress-bar {\n",
       "                background: #F44336;\n",
       "            }\n",
       "        </style>\n",
       "      <progress value='193' class='' max='2232' style='width:300px; height:20px; vertical-align: middle;'></progress>\n",
       "      8.65% [193/2232 00:08<01:30 15.4457]\n",
       "    </div>\n",
       "    "
      ],
      "text/plain": [
       "<IPython.core.display.HTML object>"
      ]
     },
     "metadata": {},
     "output_type": "display_data"
    },
    {
     "name": "stdout",
     "output_type": "stream",
     "text": [
      "LR Finder is complete, type {learner_name}.recorder.plot() to see the graph.\n",
      "Min numerical gradient: 2.51E-07\n",
      "Min loss divided by 10: 5.75E-03\n"
     ]
    },
    {
     "data": {
      "text/html": [
       "<table border=\"1\" class=\"dataframe\">\n",
       "  <thead>\n",
       "    <tr style=\"text-align: left;\">\n",
       "      <th>epoch</th>\n",
       "      <th>train_loss</th>\n",
       "      <th>valid_loss</th>\n",
       "      <th>accuracy</th>\n",
       "      <th>time</th>\n",
       "    </tr>\n",
       "  </thead>\n",
       "  <tbody>\n",
       "    <tr>\n",
       "      <td>0</td>\n",
       "      <td>5.452284</td>\n",
       "      <td>5.128658</td>\n",
       "      <td>0.268604</td>\n",
       "      <td>02:19</td>\n",
       "    </tr>\n",
       "  </tbody>\n",
       "</table>"
      ],
      "text/plain": [
       "<IPython.core.display.HTML object>"
      ]
     },
     "metadata": {},
     "output_type": "display_data"
    },
    {
     "name": "stdout",
     "output_type": "stream",
     "text": [
      "Better model found at epoch 0 with accuracy value: 0.26860424876213074.\n"
     ]
    },
    {
     "data": {
      "text/html": [
       "\n",
       "    <div>\n",
       "        <style>\n",
       "            /* Turns off some styling */\n",
       "            progress {\n",
       "                /* gets rid of default border in Firefox and Opera. */\n",
       "                border: none;\n",
       "                /* Needs to be in here for Safari polyfill so background images work as expected. */\n",
       "                background-size: auto;\n",
       "            }\n",
       "            .progress-bar-interrupted, .progress-bar-interrupted::-webkit-progress-bar {\n",
       "                background: #F44336;\n",
       "            }\n",
       "        </style>\n",
       "      <progress value='0' class='' max='1' style='width:300px; height:20px; vertical-align: middle;'></progress>\n",
       "      0.00% [0/1 00:00<00:00]\n",
       "    </div>\n",
       "    \n",
       "<table border=\"1\" class=\"dataframe\">\n",
       "  <thead>\n",
       "    <tr style=\"text-align: left;\">\n",
       "      <th>epoch</th>\n",
       "      <th>train_loss</th>\n",
       "      <th>valid_loss</th>\n",
       "      <th>accuracy</th>\n",
       "      <th>time</th>\n",
       "    </tr>\n",
       "  </thead>\n",
       "  <tbody>\n",
       "  </tbody>\n",
       "</table><p>\n",
       "\n",
       "    <div>\n",
       "        <style>\n",
       "            /* Turns off some styling */\n",
       "            progress {\n",
       "                /* gets rid of default border in Firefox and Opera. */\n",
       "                border: none;\n",
       "                /* Needs to be in here for Safari polyfill so background images work as expected. */\n",
       "                background-size: auto;\n",
       "            }\n",
       "            .progress-bar-interrupted, .progress-bar-interrupted::-webkit-progress-bar {\n",
       "                background: #F44336;\n",
       "            }\n",
       "        </style>\n",
       "      <progress value='182' class='' max='2232' style='width:300px; height:20px; vertical-align: middle;'></progress>\n",
       "      8.15% [182/2232 00:09<01:44 20.1703]\n",
       "    </div>\n",
       "    "
      ],
      "text/plain": [
       "<IPython.core.display.HTML object>"
      ]
     },
     "metadata": {},
     "output_type": "display_data"
    },
    {
     "name": "stdout",
     "output_type": "stream",
     "text": [
      "LR Finder is complete, type {learner_name}.recorder.plot() to see the graph.\n",
      "Min numerical gradient: 2.51E-07\n",
      "Min loss divided by 10: 1.91E-03\n"
     ]
    },
    {
     "data": {
      "text/html": [
       "<table border=\"1\" class=\"dataframe\">\n",
       "  <thead>\n",
       "    <tr style=\"text-align: left;\">\n",
       "      <th>epoch</th>\n",
       "      <th>train_loss</th>\n",
       "      <th>valid_loss</th>\n",
       "      <th>accuracy</th>\n",
       "      <th>time</th>\n",
       "    </tr>\n",
       "  </thead>\n",
       "  <tbody>\n",
       "    <tr>\n",
       "      <td>0</td>\n",
       "      <td>5.181184</td>\n",
       "      <td>4.931152</td>\n",
       "      <td>0.283942</td>\n",
       "      <td>02:34</td>\n",
       "    </tr>\n",
       "  </tbody>\n",
       "</table>"
      ],
      "text/plain": [
       "<IPython.core.display.HTML object>"
      ]
     },
     "metadata": {},
     "output_type": "display_data"
    },
    {
     "name": "stdout",
     "output_type": "stream",
     "text": [
      "Better model found at epoch 0 with accuracy value: 0.28394219279289246.\n",
      "RUN 3 of 3\n"
     ]
    },
    {
     "data": {
      "text/html": [
       "\n",
       "    <div>\n",
       "        <style>\n",
       "            /* Turns off some styling */\n",
       "            progress {\n",
       "                /* gets rid of default border in Firefox and Opera. */\n",
       "                border: none;\n",
       "                /* Needs to be in here for Safari polyfill so background images work as expected. */\n",
       "                background-size: auto;\n",
       "            }\n",
       "            .progress-bar-interrupted, .progress-bar-interrupted::-webkit-progress-bar {\n",
       "                background: #F44336;\n",
       "            }\n",
       "        </style>\n",
       "      <progress value='0' class='' max='1' style='width:300px; height:20px; vertical-align: middle;'></progress>\n",
       "      0.00% [0/1 00:00<00:00]\n",
       "    </div>\n",
       "    \n",
       "<table border=\"1\" class=\"dataframe\">\n",
       "  <thead>\n",
       "    <tr style=\"text-align: left;\">\n",
       "      <th>epoch</th>\n",
       "      <th>train_loss</th>\n",
       "      <th>valid_loss</th>\n",
       "      <th>accuracy</th>\n",
       "      <th>time</th>\n",
       "    </tr>\n",
       "  </thead>\n",
       "  <tbody>\n",
       "  </tbody>\n",
       "</table><p>\n",
       "\n",
       "    <div>\n",
       "        <style>\n",
       "            /* Turns off some styling */\n",
       "            progress {\n",
       "                /* gets rid of default border in Firefox and Opera. */\n",
       "                border: none;\n",
       "                /* Needs to be in here for Safari polyfill so background images work as expected. */\n",
       "                background-size: auto;\n",
       "            }\n",
       "            .progress-bar-interrupted, .progress-bar-interrupted::-webkit-progress-bar {\n",
       "                background: #F44336;\n",
       "            }\n",
       "        </style>\n",
       "      <progress value='197' class='' max='558' style='width:300px; height:20px; vertical-align: middle;'></progress>\n",
       "      35.30% [197/558 00:21<00:40 20.3732]\n",
       "    </div>\n",
       "    "
      ],
      "text/plain": [
       "<IPython.core.display.HTML object>"
      ]
     },
     "metadata": {},
     "output_type": "display_data"
    },
    {
     "name": "stdout",
     "output_type": "stream",
     "text": [
      "LR Finder is complete, type {learner_name}.recorder.plot() to see the graph.\n",
      "Min numerical gradient: 2.75E-02\n",
      "Min loss divided by 10: 1.00E-02\n"
     ]
    },
    {
     "data": {
      "text/html": [
       "<table border=\"1\" class=\"dataframe\">\n",
       "  <thead>\n",
       "    <tr style=\"text-align: left;\">\n",
       "      <th>epoch</th>\n",
       "      <th>train_loss</th>\n",
       "      <th>valid_loss</th>\n",
       "      <th>accuracy</th>\n",
       "      <th>time</th>\n",
       "    </tr>\n",
       "  </thead>\n",
       "  <tbody>\n",
       "    <tr>\n",
       "      <td>0</td>\n",
       "      <td>4.622078</td>\n",
       "      <td>4.118785</td>\n",
       "      <td>0.318197</td>\n",
       "      <td>01:30</td>\n",
       "    </tr>\n",
       "  </tbody>\n",
       "</table>"
      ],
      "text/plain": [
       "<IPython.core.display.HTML object>"
      ]
     },
     "metadata": {},
     "output_type": "display_data"
    },
    {
     "name": "stdout",
     "output_type": "stream",
     "text": [
      "Better model found at epoch 0 with accuracy value: 0.3181968331336975.\n"
     ]
    },
    {
     "data": {
      "text/html": [
       "\n",
       "    <div>\n",
       "        <style>\n",
       "            /* Turns off some styling */\n",
       "            progress {\n",
       "                /* gets rid of default border in Firefox and Opera. */\n",
       "                border: none;\n",
       "                /* Needs to be in here for Safari polyfill so background images work as expected. */\n",
       "                background-size: auto;\n",
       "            }\n",
       "            .progress-bar-interrupted, .progress-bar-interrupted::-webkit-progress-bar {\n",
       "                background: #F44336;\n",
       "            }\n",
       "        </style>\n",
       "      <progress value='0' class='' max='1' style='width:300px; height:20px; vertical-align: middle;'></progress>\n",
       "      0.00% [0/1 00:00<00:00]\n",
       "    </div>\n",
       "    \n",
       "<table border=\"1\" class=\"dataframe\">\n",
       "  <thead>\n",
       "    <tr style=\"text-align: left;\">\n",
       "      <th>epoch</th>\n",
       "      <th>train_loss</th>\n",
       "      <th>valid_loss</th>\n",
       "      <th>accuracy</th>\n",
       "      <th>time</th>\n",
       "    </tr>\n",
       "  </thead>\n",
       "  <tbody>\n",
       "  </tbody>\n",
       "</table><p>\n",
       "\n",
       "    <div>\n",
       "        <style>\n",
       "            /* Turns off some styling */\n",
       "            progress {\n",
       "                /* gets rid of default border in Firefox and Opera. */\n",
       "                border: none;\n",
       "                /* Needs to be in here for Safari polyfill so background images work as expected. */\n",
       "                background-size: auto;\n",
       "            }\n",
       "            .progress-bar-interrupted, .progress-bar-interrupted::-webkit-progress-bar {\n",
       "                background: #F44336;\n",
       "            }\n",
       "        </style>\n",
       "      <progress value='182' class='' max='558' style='width:300px; height:20px; vertical-align: middle;'></progress>\n",
       "      32.62% [182/558 00:21<00:44 11.6630]\n",
       "    </div>\n",
       "    "
      ],
      "text/plain": [
       "<IPython.core.display.HTML object>"
      ]
     },
     "metadata": {},
     "output_type": "display_data"
    },
    {
     "name": "stdout",
     "output_type": "stream",
     "text": [
      "LR Finder is complete, type {learner_name}.recorder.plot() to see the graph.\n",
      "Min numerical gradient: 3.02E-07\n",
      "Min loss divided by 10: 4.79E-04\n"
     ]
    },
    {
     "data": {
      "text/html": [
       "<table border=\"1\" class=\"dataframe\">\n",
       "  <thead>\n",
       "    <tr style=\"text-align: left;\">\n",
       "      <th>epoch</th>\n",
       "      <th>train_loss</th>\n",
       "      <th>valid_loss</th>\n",
       "      <th>accuracy</th>\n",
       "      <th>time</th>\n",
       "    </tr>\n",
       "  </thead>\n",
       "  <tbody>\n",
       "    <tr>\n",
       "      <td>0</td>\n",
       "      <td>4.196192</td>\n",
       "      <td>4.131843</td>\n",
       "      <td>0.317776</td>\n",
       "      <td>01:34</td>\n",
       "    </tr>\n",
       "  </tbody>\n",
       "</table>"
      ],
      "text/plain": [
       "<IPython.core.display.HTML object>"
      ]
     },
     "metadata": {},
     "output_type": "display_data"
    },
    {
     "name": "stdout",
     "output_type": "stream",
     "text": [
      "Better model found at epoch 0 with accuracy value: 0.31777575612068176.\n"
     ]
    },
    {
     "data": {
      "image/png": "[encoded data removed]",
      "text/plain": [
       "<Figure size 432x288 with 1 Axes>"
      ]
     },
     "metadata": {
      "needs_background": "light"
     },
     "output_type": "display_data"
    },
    {
     "data": {
      "image/png": "[encoded data removed]",
      "text/plain": [
       "<Figure size 432x288 with 1 Axes>"
      ]
     },
     "metadata": {
      "needs_background": "light"
     },
     "output_type": "display_data"
    },
    {
     "data": {
      "image/png": "[encoded data removed]",
      "text/plain": [
       "<Figure size 432x288 with 1 Axes>"
      ]
     },
     "metadata": {
      "needs_background": "light"
     },
     "output_type": "display_data"
    },
    {
     "data": {
      "image/png": "[encoded data removed]",
      "text/plain": [
       "<Figure size 432x288 with 1 Axes>"
      ]
     },
     "metadata": {
      "needs_background": "light"
     },
     "output_type": "display_data"
    },
    {
     "data": {
      "image/png": "[encoded data removed]",
      "text/plain": [
       "<Figure size 432x288 with 1 Axes>"
      ]
     },
     "metadata": {
      "needs_background": "light"
     },
     "output_type": "display_data"
    },
    {
     "data": {
      "image/png": "[encoded data removed]",
      "text/plain": [
       "<Figure size 432x288 with 1 Axes>"
      ]
     },
     "metadata": {
      "needs_background": "light"
     },
     "output_type": "display_data"
    }
   ],
   "source": [
    "best_params, best_run = hyper_param_lm_search(3, params)"
   ]
  },
  {
   "cell_type": "code",
   "execution_count": 9,
   "metadata": {},
   "outputs": [
    {
     "data": {
      "text/plain": [
       "0.31777575612068176"
      ]
     },
     "execution_count": 9,
     "metadata": {},
     "output_type": "execute_result"
    }
   ],
   "source": [
    "best_run[0]"
   ]
  },
  {
   "cell_type": "code",
   "execution_count": 10,
   "metadata": {},
   "outputs": [
    {
     "data": {
      "text/plain": [
       "{'bs': 128, 'drop_mult': 0.6450787380744305, 'epochs': 1, 'num_samples': 50000}"
      ]
     },
     "execution_count": 10,
     "metadata": {},
     "output_type": "execute_result"
    }
   ],
   "source": [
    "best_params"
   ]
  },
  {
   "cell_type": "code",
   "execution_count": 12,
   "metadata": {},
   "outputs": [],
   "source": [
    "best_params[\"epochs\"] = 10"
   ]
  },
  {
   "cell_type": "code",
   "execution_count": 13,
   "metadata": {},
   "outputs": [
    {
     "data": {
      "text/html": [
       "\n",
       "    <div>\n",
       "        <style>\n",
       "            /* Turns off some styling */\n",
       "            progress {\n",
       "                /* gets rid of default border in Firefox and Opera. */\n",
       "                border: none;\n",
       "                /* Needs to be in here for Safari polyfill so background images work as expected. */\n",
       "                background-size: auto;\n",
       "            }\n",
       "            .progress-bar-interrupted, .progress-bar-interrupted::-webkit-progress-bar {\n",
       "                background: #F44336;\n",
       "            }\n",
       "        </style>\n",
       "      <progress value='0' class='' max='1' style='width:300px; height:20px; vertical-align: middle;'></progress>\n",
       "      0.00% [0/1 00:00<00:00]\n",
       "    </div>\n",
       "    \n",
       "<table border=\"1\" class=\"dataframe\">\n",
       "  <thead>\n",
       "    <tr style=\"text-align: left;\">\n",
       "      <th>epoch</th>\n",
       "      <th>train_loss</th>\n",
       "      <th>valid_loss</th>\n",
       "      <th>accuracy</th>\n",
       "      <th>time</th>\n",
       "    </tr>\n",
       "  </thead>\n",
       "  <tbody>\n",
       "  </tbody>\n",
       "</table><p>\n",
       "\n",
       "    <div>\n",
       "        <style>\n",
       "            /* Turns off some styling */\n",
       "            progress {\n",
       "                /* gets rid of default border in Firefox and Opera. */\n",
       "                border: none;\n",
       "                /* Needs to be in here for Safari polyfill so background images work as expected. */\n",
       "                background-size: auto;\n",
       "            }\n",
       "            .progress-bar-interrupted, .progress-bar-interrupted::-webkit-progress-bar {\n",
       "                background: #F44336;\n",
       "            }\n",
       "        </style>\n",
       "      <progress value='197' class='' max='558' style='width:300px; height:20px; vertical-align: middle;'></progress>\n",
       "      35.30% [197/558 00:21<00:40 19.8898]\n",
       "    </div>\n",
       "    "
      ],
      "text/plain": [
       "<IPython.core.display.HTML object>"
      ]
     },
     "metadata": {},
     "output_type": "display_data"
    },
    {
     "name": "stdout",
     "output_type": "stream",
     "text": [
      "LR Finder is complete, type {learner_name}.recorder.plot() to see the graph.\n",
      "Min numerical gradient: 2.51E-07\n",
      "Min loss divided by 10: 1.00E-02\n"
     ]
    },
    {
     "data": {
      "text/html": [
       "<table border=\"1\" class=\"dataframe\">\n",
       "  <thead>\n",
       "    <tr style=\"text-align: left;\">\n",
       "      <th>epoch</th>\n",
       "      <th>train_loss</th>\n",
       "      <th>valid_loss</th>\n",
       "      <th>accuracy</th>\n",
       "      <th>time</th>\n",
       "    </tr>\n",
       "  </thead>\n",
       "  <tbody>\n",
       "    <tr>\n",
       "      <td>0</td>\n",
       "      <td>5.541803</td>\n",
       "      <td>5.130800</td>\n",
       "      <td>0.268399</td>\n",
       "      <td>01:30</td>\n",
       "    </tr>\n",
       "  </tbody>\n",
       "</table>"
      ],
      "text/plain": [
       "<IPython.core.display.HTML object>"
      ]
     },
     "metadata": {},
     "output_type": "display_data"
    },
    {
     "name": "stdout",
     "output_type": "stream",
     "text": [
      "Better model found at epoch 0 with accuracy value: 0.2683994770050049.\n"
     ]
    },
    {
     "data": {
      "text/html": [
       "\n",
       "    <div>\n",
       "        <style>\n",
       "            /* Turns off some styling */\n",
       "            progress {\n",
       "                /* gets rid of default border in Firefox and Opera. */\n",
       "                border: none;\n",
       "                /* Needs to be in here for Safari polyfill so background images work as expected. */\n",
       "                background-size: auto;\n",
       "            }\n",
       "            .progress-bar-interrupted, .progress-bar-interrupted::-webkit-progress-bar {\n",
       "                background: #F44336;\n",
       "            }\n",
       "        </style>\n",
       "      <progress value='0' class='' max='1' style='width:300px; height:20px; vertical-align: middle;'></progress>\n",
       "      0.00% [0/1 00:00<00:00]\n",
       "    </div>\n",
       "    \n",
       "<table border=\"1\" class=\"dataframe\">\n",
       "  <thead>\n",
       "    <tr style=\"text-align: left;\">\n",
       "      <th>epoch</th>\n",
       "      <th>train_loss</th>\n",
       "      <th>valid_loss</th>\n",
       "      <th>accuracy</th>\n",
       "      <th>time</th>\n",
       "    </tr>\n",
       "  </thead>\n",
       "  <tbody>\n",
       "  </tbody>\n",
       "</table><p>\n",
       "\n",
       "    <div>\n",
       "        <style>\n",
       "            /* Turns off some styling */\n",
       "            progress {\n",
       "                /* gets rid of default border in Firefox and Opera. */\n",
       "                border: none;\n",
       "                /* Needs to be in here for Safari polyfill so background images work as expected. */\n",
       "                background-size: auto;\n",
       "            }\n",
       "            .progress-bar-interrupted, .progress-bar-interrupted::-webkit-progress-bar {\n",
       "                background: #F44336;\n",
       "            }\n",
       "        </style>\n",
       "      <progress value='181' class='' max='558' style='width:300px; height:20px; vertical-align: middle;'></progress>\n",
       "      32.44% [181/558 00:21<00:45 13.1041]\n",
       "    </div>\n",
       "    "
      ],
      "text/plain": [
       "<IPython.core.display.HTML object>"
      ]
     },
     "metadata": {},
     "output_type": "display_data"
    },
    {
     "name": "stdout",
     "output_type": "stream",
     "text": [
      "LR Finder is complete, type {learner_name}.recorder.plot() to see the graph.\n",
      "Min numerical gradient: 3.98E-03\n",
      "Min loss divided by 10: 3.31E-03\n"
     ]
    },
    {
     "data": {
      "text/html": [
       "<table border=\"1\" class=\"dataframe\">\n",
       "  <thead>\n",
       "    <tr style=\"text-align: left;\">\n",
       "      <th>epoch</th>\n",
       "      <th>train_loss</th>\n",
       "      <th>valid_loss</th>\n",
       "      <th>accuracy</th>\n",
       "      <th>time</th>\n",
       "    </tr>\n",
       "  </thead>\n",
       "  <tbody>\n",
       "    <tr>\n",
       "      <td>0</td>\n",
       "      <td>6.791133</td>\n",
       "      <td>6.312819</td>\n",
       "      <td>0.261393</td>\n",
       "      <td>01:34</td>\n",
       "    </tr>\n",
       "    <tr>\n",
       "      <td>1</td>\n",
       "      <td>6.225722</td>\n",
       "      <td>5.606315</td>\n",
       "      <td>0.246016</td>\n",
       "      <td>01:34</td>\n",
       "    </tr>\n",
       "    <tr>\n",
       "      <td>2</td>\n",
       "      <td>5.852060</td>\n",
       "      <td>5.574659</td>\n",
       "      <td>0.266828</td>\n",
       "      <td>01:34</td>\n",
       "    </tr>\n",
       "    <tr>\n",
       "      <td>3</td>\n",
       "      <td>5.229268</td>\n",
       "      <td>4.921249</td>\n",
       "      <td>0.283011</td>\n",
       "      <td>01:33</td>\n",
       "    </tr>\n",
       "    <tr>\n",
       "      <td>4</td>\n",
       "      <td>5.047976</td>\n",
       "      <td>4.815795</td>\n",
       "      <td>0.288526</td>\n",
       "      <td>01:35</td>\n",
       "    </tr>\n",
       "    <tr>\n",
       "      <td>5</td>\n",
       "      <td>4.729555</td>\n",
       "      <td>4.497596</td>\n",
       "      <td>0.304254</td>\n",
       "      <td>01:34</td>\n",
       "    </tr>\n",
       "    <tr>\n",
       "      <td>6</td>\n",
       "      <td>4.544194</td>\n",
       "      <td>4.334995</td>\n",
       "      <td>0.314074</td>\n",
       "      <td>01:34</td>\n",
       "    </tr>\n",
       "    <tr>\n",
       "      <td>7</td>\n",
       "      <td>4.251309</td>\n",
       "      <td>4.106198</td>\n",
       "      <td>0.325877</td>\n",
       "      <td>01:34</td>\n",
       "    </tr>\n",
       "    <tr>\n",
       "      <td>8</td>\n",
       "      <td>3.941383</td>\n",
       "      <td>3.918527</td>\n",
       "      <td>0.338088</td>\n",
       "      <td>01:34</td>\n",
       "    </tr>\n",
       "    <tr>\n",
       "      <td>9</td>\n",
       "      <td>3.697198</td>\n",
       "      <td>3.880655</td>\n",
       "      <td>0.341121</td>\n",
       "      <td>01:35</td>\n",
       "    </tr>\n",
       "  </tbody>\n",
       "</table>"
      ],
      "text/plain": [
       "<IPython.core.display.HTML object>"
      ]
     },
     "metadata": {},
     "output_type": "display_data"
    },
    {
     "name": "stdout",
     "output_type": "stream",
     "text": [
      "Better model found at epoch 0 with accuracy value: 0.26139312982559204.\n",
      "Better model found at epoch 2 with accuracy value: 0.2668275833129883.\n",
      "Better model found at epoch 3 with accuracy value: 0.283011257648468.\n",
      "Better model found at epoch 4 with accuracy value: 0.28852614760398865.\n",
      "Better model found at epoch 5 with accuracy value: 0.30425429344177246.\n",
      "Better model found at epoch 6 with accuracy value: 0.31407439708709717.\n",
      "Better model found at epoch 7 with accuracy value: 0.32587748765945435.\n",
      "Better model found at epoch 8 with accuracy value: 0.33808764815330505.\n",
      "Better model found at epoch 9 with accuracy value: 0.34112071990966797.\n"
     ]
    },
    {
     "data": {
      "image/png": "[encoded data removed]",
      "text/plain": [
       "<Figure size 432x288 with 1 Axes>"
      ]
     },
     "metadata": {
      "needs_background": "light"
     },
     "output_type": "display_data"
    },
    {
     "data": {
      "image/png": "[encoded data removed]",
      "text/plain": [
       "<Figure size 432x288 with 1 Axes>"
      ]
     },
     "metadata": {
      "needs_background": "light"
     },
     "output_type": "display_data"
    }
   ],
   "source": [
    "best_acc, model_name, model_enc_name, learn_lm, data_lm = train_lm_model(**best_params)"
   ]
  },
  {
   "cell_type": "markdown",
   "metadata": {},
   "source": [
    "### Language Model Predictions"
   ]
  },
  {
   "cell_type": "code",
   "execution_count": 50,
   "metadata": {},
   "outputs": [
    {
     "name": "stderr",
     "output_type": "stream",
     "text": [
      "/conda/lib/python3.6/site-packages/torch/serialization.py:593: SourceChangeWarning: source code of class 'torch.nn.modules.loss.CrossEntropyLoss' has changed. you can retrieve the original source code by accessing the object's source attribute or set `torch.nn.Module.dump_patches = True` and use the patch tool to revert the changes.\n",
      "  warnings.warn(msg, SourceChangeWarning)\n"
     ]
    }
   ],
   "source": [
    "data_lm = load_data(\"\", \"/User/nlp/run/data_lm.pkl\", bs=64)"
   ]
  },
  {
   "cell_type": "code",
   "execution_count": 51,
   "metadata": {},
   "outputs": [],
   "source": [
    "learn_lm = language_model_learner(data_lm, AWD_LSTM)"
   ]
  },
  {
   "cell_type": "code",
   "execution_count": 52,
   "metadata": {},
   "outputs": [],
   "source": [
    "learn_lm.load(\"/User/nlp/run/train_lm_model\")\n",
    "learn_lm.freeze()"
   ]
  },
  {
   "cell_type": "code",
   "execution_count": 55,
   "metadata": {},
   "outputs": [
    {
     "data": {
      "text/plain": [
       "\"The aim of this study was to determine the prevalence of Parkinson 's disease ( PD ) in the PD - PD ( PD ) model . In this study , we examined the effects of PD on the effects of PD on the biological activity of the PD - PD in the PD - PD . The study was designed to investigate the role of the Pd - Pd - Pd in the progression of PD - PD - PD in the Pd - PD\""
      ]
     },
     "execution_count": 55,
     "metadata": {},
     "output_type": "execute_result"
    }
   ],
   "source": [
    "learn_lm.predict(\"The aim of this study was to\", n_words=100, temperature=0.5)"
   ]
  },
  {
   "cell_type": "code",
   "execution_count": 58,
   "metadata": {},
   "outputs": [
    {
     "data": {
      "text/plain": [
       "'The disease has mutated and recently been investigated in human breast cancer patients . The aim of this study was to investigate the effects of the HPV on DNA damage in the human HPV - associated cancer cell line . The HPV DNA - infected HPV - DNA - DNA polymerase chain reaction ( PCR ) showed that the HPV - associated HPV gene was associated with a tumor suppressor gene and a p53 mutation in the HPV / HPV gene in the HPV . The HPV'"
      ]
     },
     "execution_count": 58,
     "metadata": {},
     "output_type": "execute_result"
    }
   ],
   "source": [
    "learn_lm.predict(\"The disease has mutated and\", n_words=100, temperature=0.5)"
   ]
  },
  {
   "cell_type": "code",
   "execution_count": 63,
   "metadata": {},
   "outputs": [
    {
     "data": {
      "text/plain": [
       "'In the course of our diagnostics, we found that the interactions of the human serum albumin and serum albumin levels were strongly influenced by the DNA - bound DNA . The interaction between DNA and DNA was examined by measuring the activity of the DNA chain and the presence of the DNA DNA base at the surface of the DNA of the DNA of the two drugs . This study revealed that the DNA and the DNA of the two sites could be used to produce a hot spot that was located on the detached'"
      ]
     },
     "execution_count": 63,
     "metadata": {},
     "output_type": "execute_result"
    }
   ],
   "source": [
    "learn_lm.predict(\"In the course of our diagnostics, we found\", n_words=100, temperature=0.7)"
   ]
  },
  {
   "cell_type": "code",
   "execution_count": 32,
   "metadata": {},
   "outputs": [],
   "source": [
    "import dill"
   ]
  },
  {
   "cell_type": "code",
   "execution_count": 35,
   "metadata": {},
   "outputs": [],
   "source": [
    "test = learn_lm.save(\"/User/nlp/run/test\")"
   ]
  },
  {
   "cell_type": "markdown",
   "metadata": {},
   "source": [
    "### Define Classification Model"
   ]
  },
  {
   "cell_type": "code",
   "execution_count": 30,
   "metadata": {},
   "outputs": [],
   "source": [
    "def get_rand_params(params):\n",
    "    rand_params = {}\n",
    "    for name, param in params.items():\n",
    "        if type(param) == list:\n",
    "            rand_params.update({name : int(np.random.choice(param))})\n",
    "        elif type(param) == tuple:\n",
    "            rand_params.update({name : float(random.uniform(param[0], param[1]))})\n",
    "        else:\n",
    "            rand_params.update({name : param})\n",
    "    return rand_params\n",
    "\n",
    "def get_min_grad(model):\n",
    "    model.lr_find(num_it=200)\n",
    "    model.recorder.plot(suggestion=True)\n",
    "    return model.recorder.min_grad_lr\n",
    "\n",
    "def train_clas_model(bs, thresh, drop_mult, epochs, num_samples, encodings):\n",
    "    # Load data\n",
    "    version = f\"sample_{num_samples}.pkl\"\n",
    "#     data_clas = load_data(\"pickle\", f'data_clas_{version}', bs=bs)\n",
    "    data_clas = load_data(\"\", \"/User/nlp/run/data_clas.pkl\", bs=bs)\n",
    "\n",
    "    # Define metrics\n",
    "    acc = partial(accuracy_thresh, thresh=thresh)\n",
    "    f_score = partial(fbeta, thresh=thresh)\n",
    "    metrics = [acc, f_score]\n",
    "\n",
    "    # Define model callbacks\n",
    "    early_stop = partial(EarlyStoppingCallback,\n",
    "                         monitor='fbeta',\n",
    "                         mode=\"max\",\n",
    "                         min_delta=0.001,\n",
    "                         patience=5)\n",
    "    graph = ShowGraph\n",
    "    callback_fns = [early_stop]#, graph]\n",
    "\n",
    "    # Define classification model\n",
    "    learn_clas = text_classifier_learner(data_clas,\n",
    "                                         AWD_LSTM,\n",
    "                                         drop_mult=drop_mult,\n",
    "                                         metrics=metrics,\n",
    "                                         callback_fns=callback_fns).to_fp16()\n",
    "    learn_clas.load_encoder(encodings)\n",
    "    learn_clas.freeze()\n",
    "    \n",
    "    # Define training callback\n",
    "    model_name = f\"learn_clas_{version}_bs_{bs}_thresh_{thresh}_dropmult_{drop_mult}\"\n",
    "    save_best = SaveModelCallback(learn_clas,\n",
    "                                  every='improvement',\n",
    "                                  monitor=\"fbeta\",\n",
    "                                  mode=\"max\",\n",
    "                                  name=model_name)\n",
    "    callbacks = [save_best]\n",
    "\n",
    "    # Train\n",
    "    min_grad = get_min_grad(learn_clas)\n",
    "    learn_clas.fit_one_cycle(1, min_grad, callbacks=callbacks)\n",
    "    learn_clas.unfreeze()\n",
    "\n",
    "    min_grad = get_min_grad(learn_clas)\n",
    "    learn_clas.fit_one_cycle(epochs, slice(min_grad,min_grad*100), moms=(0.8,0.7), callbacks=callbacks)\n",
    "    \n",
    "    # Get f score\n",
    "    best_fbeta = max([i[1] for i in learn_clas.recorder.metrics]).item()\n",
    "    \n",
    "    return (best_fbeta, model_name, learn_clas, data_clas)\n",
    "\n",
    "def hyper_param_clas_search(num_runs, params):\n",
    "    param_log = []\n",
    "    run_log = []\n",
    "    \n",
    "    for i in range(num_runs):\n",
    "        print(f\"RUN {i + 1} of {num_runs}\")\n",
    "        rand_params = get_rand_params(params)\n",
    "        param_log.append(rand_params)\n",
    "        run_result = train_clas_model(**rand_params)\n",
    "        run_log.append(run_result)\n",
    "        \n",
    "    best_run = np.argmax([i[0] for i in run_log])\n",
    "        \n",
    "    return (param_log[best_run], run_log[best_run])"
   ]
  },
  {
   "cell_type": "markdown",
   "metadata": {},
   "source": [
    "### Train Classification Model"
   ]
  },
  {
   "cell_type": "code",
   "execution_count": 31,
   "metadata": {},
   "outputs": [],
   "source": [
    "# params = {\"bs\" : 64,\n",
    "#           \"thresh\" : 0.05,\n",
    "#           \"drop_mult\" : 0.5,\n",
    "#           \"epochs\" : 10,\n",
    "#           \"num_samples\" : 10000,\n",
    "#           \"encodings\" : \"learn_lm_enc_sample_10000.pkl_bs_64_dropmult_0.5\"}"
   ]
  },
  {
   "cell_type": "code",
   "execution_count": 32,
   "metadata": {},
   "outputs": [],
   "source": [
    "# best_fbeta, model_name, learn_clas, data_clas = train_clas_model(**params)"
   ]
  },
  {
   "cell_type": "markdown",
   "metadata": {},
   "source": [
    "### Hyperparameter Tuning"
   ]
  },
  {
   "cell_type": "code",
   "execution_count": 33,
   "metadata": {},
   "outputs": [],
   "source": [
    "# learn_lm_enc_sample_10000.pkl_bs_64_dropmult_0.5\n",
    "# learn_lm_enc_sample_10000.pkl_bs_32_dropmult_0.22643023822787633\n",
    "# learn_lm_enc_sample_50000.pkl_bs_128_dropmult_0.6450787380744305"
   ]
  },
  {
   "cell_type": "code",
   "execution_count": 98,
   "metadata": {},
   "outputs": [],
   "source": [
    "# encodings = \"/User/nlp/pickle/models/learn_lm_enc_sample_10000.pkl_bs_128_dropmult_0.6630502684670632\"\n",
    "encodings = \"/User/nlp/run/train_lm_model_enc.pkl\""
   ]
  },
  {
   "cell_type": "code",
   "execution_count": 99,
   "metadata": {},
   "outputs": [],
   "source": [
    "params = {\"bs\" : [32, 64, 128],\n",
    "          \"thresh\" : (0.01, 0.1),\n",
    "          \"drop_mult\" : (0.2, 0.7),\n",
    "          \"epochs\" : 1,\n",
    "          \"num_samples\" : 10000,\n",
    "          \"encodings\" : encodings}"
   ]
  },
  {
   "cell_type": "code",
   "execution_count": 39,
   "metadata": {},
   "outputs": [
    {
     "name": "stderr",
     "output_type": "stream",
     "text": [
      "/conda/lib/python3.6/site-packages/torch/serialization.py:593: SourceChangeWarning: source code of class 'torch.nn.modules.loss.BCEWithLogitsLoss' has changed. you can retrieve the original source code by accessing the object's source attribute or set `torch.nn.Module.dump_patches = True` and use the patch tool to revert the changes.\n",
      "  warnings.warn(msg, SourceChangeWarning)\n"
     ]
    }
   ],
   "source": [
    "data_clas = load_data(\"\", \"/User/nlp/run/data_clas.pkl\", bs=32)\n",
    "# data_clas = load_data(\"\", \"/User/nlp/pickle/data_clas_sample_10000.pkl\", bs=32)"
   ]
  },
  {
   "cell_type": "code",
   "execution_count": 101,
   "metadata": {},
   "outputs": [],
   "source": [
    "acc = partial(accuracy_thresh, thresh=0.01)\n",
    "f_score = partial(fbeta, thresh=0.01)\n",
    "metrics = [acc, f_score]\n",
    "\n",
    "# Define model callbacks\n",
    "early_stop = partial(EarlyStoppingCallback,\n",
    "                     monitor='fbeta',\n",
    "                     mode=\"max\",\n",
    "                     min_delta=0.001,\n",
    "                     patience=5)\n",
    "graph = ShowGraph\n",
    "callback_fns = [early_stop]#, graph]\n",
    "\n",
    "# Define classification model\n",
    "learn_clas = text_classifier_learner(data_clas,\n",
    "                                     AWD_LSTM,\n",
    "                                     drop_mult=0.5,\n",
    "                                     metrics=metrics,\n",
    "                                     callback_fns=callback_fns).to_fp16()\n",
    "learn_clas.load_encoder(encodings)\n",
    "learn_clas.freeze()"
   ]
  },
  {
   "cell_type": "code",
   "execution_count": 40,
   "metadata": {},
   "outputs": [],
   "source": [
    "learn_clas = text_classifier_learner(data_clas, AWD_LSTM)"
   ]
  },
  {
   "cell_type": "code",
   "execution_count": 42,
   "metadata": {},
   "outputs": [],
   "source": [
    "learn_clas.load(\"/User/nlp/run/train_clas_model\")\n",
    "learn_clas.freeze()"
   ]
  },
  {
   "cell_type": "code",
   "execution_count": 102,
   "metadata": {},
   "outputs": [
    {
     "data": {
      "text/html": [
       "\n",
       "    <div>\n",
       "        <style>\n",
       "            /* Turns off some styling */\n",
       "            progress {\n",
       "                /* gets rid of default border in Firefox and Opera. */\n",
       "                border: none;\n",
       "                /* Needs to be in here for Safari polyfill so background images work as expected. */\n",
       "                background-size: auto;\n",
       "            }\n",
       "            .progress-bar-interrupted, .progress-bar-interrupted::-webkit-progress-bar {\n",
       "                background: #F44336;\n",
       "            }\n",
       "        </style>\n",
       "      <progress value='1' class='' max='2' style='width:300px; height:20px; vertical-align: middle;'></progress>\n",
       "      50.00% [1/2 00:10<00:10]\n",
       "    </div>\n",
       "    \n",
       "<table border=\"1\" class=\"dataframe\">\n",
       "  <thead>\n",
       "    <tr style=\"text-align: left;\">\n",
       "      <th>epoch</th>\n",
       "      <th>train_loss</th>\n",
       "      <th>valid_loss</th>\n",
       "      <th>accuracy_thresh</th>\n",
       "      <th>fbeta</th>\n",
       "      <th>time</th>\n",
       "    </tr>\n",
       "  </thead>\n",
       "  <tbody>\n",
       "    <tr>\n",
       "      <td>0</td>\n",
       "      <td>0.399229</td>\n",
       "      <td>#na#</td>\n",
       "      <td>00:10</td>\n",
       "    </tr>\n",
       "  </tbody>\n",
       "</table><p>\n",
       "\n",
       "    <div>\n",
       "        <style>\n",
       "            /* Turns off some styling */\n",
       "            progress {\n",
       "                /* gets rid of default border in Firefox and Opera. */\n",
       "                border: none;\n",
       "                /* Needs to be in here for Safari polyfill so background images work as expected. */\n",
       "                background-size: auto;\n",
       "            }\n",
       "            .progress-bar-interrupted, .progress-bar-interrupted::-webkit-progress-bar {\n",
       "                background: #F44336;\n",
       "            }\n",
       "        </style>\n",
       "      <progress value='41' class='' max='156' style='width:300px; height:20px; vertical-align: middle;'></progress>\n",
       "      26.28% [41/156 00:03<00:11 0.3744]\n",
       "    </div>\n",
       "    "
      ],
      "text/plain": [
       "<IPython.core.display.HTML object>"
      ]
     },
     "metadata": {},
     "output_type": "display_data"
    },
    {
     "name": "stdout",
     "output_type": "stream",
     "text": [
      "LR Finder is complete, type {learner_name}.recorder.plot() to see the graph.\n",
      "Min numerical gradient: 2.51E-02\n",
      "Min loss divided by 10: 3.02E-01\n"
     ]
    },
    {
     "data": {
      "image/png": "[encoded data removed]",
      "text/plain": [
       "<Figure size 432x288 with 1 Axes>"
      ]
     },
     "metadata": {
      "needs_background": "light"
     },
     "output_type": "display_data"
    }
   ],
   "source": [
    "min_grad = get_min_grad(learn_clas)"
   ]
  },
  {
   "cell_type": "code",
   "execution_count": 103,
   "metadata": {},
   "outputs": [
    {
     "data": {
      "text/plain": [
       "0.02511886431509582"
      ]
     },
     "execution_count": 103,
     "metadata": {},
     "output_type": "execute_result"
    }
   ],
   "source": [
    "min_grad"
   ]
  },
  {
   "cell_type": "code",
   "execution_count": 104,
   "metadata": {},
   "outputs": [
    {
     "data": {
      "text/html": [
       "<table border=\"1\" class=\"dataframe\">\n",
       "  <thead>\n",
       "    <tr style=\"text-align: left;\">\n",
       "      <th>epoch</th>\n",
       "      <th>train_loss</th>\n",
       "      <th>valid_loss</th>\n",
       "      <th>accuracy_thresh</th>\n",
       "      <th>fbeta</th>\n",
       "      <th>time</th>\n",
       "    </tr>\n",
       "  </thead>\n",
       "  <tbody>\n",
       "    <tr>\n",
       "      <td>0</td>\n",
       "      <td>0.030081</td>\n",
       "      <td>0.004160</td>\n",
       "      <td>0.996246</td>\n",
       "      <td>0.038818</td>\n",
       "      <td>00:16</td>\n",
       "    </tr>\n",
       "  </tbody>\n",
       "</table>"
      ],
      "text/plain": [
       "<IPython.core.display.HTML object>"
      ]
     },
     "metadata": {},
     "output_type": "display_data"
    }
   ],
   "source": [
    "learn_clas.fit_one_cycle(1, min_grad)"
   ]
  },
  {
   "cell_type": "code",
   "execution_count": 37,
   "metadata": {},
   "outputs": [
    {
     "data": {
      "text/plain": [
       "TextClasDataBunch;\n",
       "\n",
       "Train: LabelList (5000 items)\n",
       "x: TextList\n",
       "xxbos xxmaj the urinary bladder wall is lined by a layer of mucus which is believed to provide an important barrier to bacterial invasion of the urinary tract . xxmaj abnormal function of this protective layer could therefore be a factor predisposing the host to urinary tract infection ( xxup uti ) . xxmaj this study investigated the contribution of the bladder mucus to host defence in both acute and chronic lower xxup uti , using a non - obstructive animal model of infection which xxunk many features of the disease in man . xxmaj the ultrastructural appearance of the infected bladder mucosa was assessed in tissue in which both the layer of mucus and bacterial xxunk were stabilized prior to examination by scanning and transmission electron microscopy . xxmaj the protective role of the mucus layer was determined by disrupting the layer immediately prior to bacterial challenge . xxmaj both ultrastructural and bacteriological analyses have shown that infection was increased in those animals where the mucus barrier was disrupted .,xxbos xxmaj the effect of prenatal alcohol exposure on nerve cell development was investigated in neurons and glial cells cultured from fetal rat brain . xxmaj neurons were grown for one week from two week - old cortical brain cells and glial cells were cultured during four weeks from new born cortical brain cells . xxmaj two situations were examined : maternal alcohol treatment before and during pregnancy and alcohol exposure only until the beginning of pregnancy . xxmaj in both situations we found a delayed nerve cell maturation assessed by biochemical markers like enolase and glutamine synthetase . xxmaj alterations of lactate dehydrogenase activity and reduced superoxide dismutase activity , involved in free radicals elimination were also observed . \" xxmaj in vitro \" addition of alcohol to the culture medium produced an additional effect showing a lower response in the prenatal alcohol exposed brain cells than in the controls . xxmaj the results confirm our previous \" in vivo \" experiments showing long lasting effects of maternal alcohol exposure in the offspring .,xxbos xxmaj to investigate the effects of health education based on integrative therapy of xxmaj chinese and xxmaj western medicine for type 2 diabetes mellitus ( xxup t2dm ) from the aspects of knowledge , attitude and practice ( xxup xxunk ) , health - related quality of life ( hrqol ) , body mass index ( xxup bmi ) and glucose control .,xxbos xxmaj the heart rate ( xxup hr ) is useful for the monitoring of patients , but almost no studies have been found which describe their variations according to different geographic xxunk and xxunk using xxunk in children and adults .,xxbos xxmaj we report the phylogenetic characterization of a unique flavivirus sequence detected in a wild xxmaj culex xxunk mosquito pool , collected from the northeast xxmaj indian state of xxmaj xxunk .\n",
       "y: CategoryList\n",
       "['Pentachlorophenol'],['Nerve Tissue Proteins', 'Ethanol', 'L-Lactate Dehydrogenase', 'Superoxide Dismutase', 'Phosphopyruvate Hydratase', 'Glutamate-Ammonia Ligase'],['Glycated Hemoglobin A'],['Oxygen'],['Viral Proteins']\n",
       "Path: fastai;\n",
       "\n",
       "Valid: LabelList (649 items)\n",
       "x: TextList\n",
       "xxbos xxmaj the paper proposes a critical assessment of municipal solid waste xxunk today , starting from basic aspects of the process ( process types and steps , operating and performance parameters ) and xxunk to a comparative analysis of the xxunk ( fixed bed , xxunk bed , xxunk bed , vertical shaft , moving xxunk furnace , rotary xxunk , plasma reactor ) as well as of the possible plant configurations ( heat xxunk and power xxunk ) and the environmental performances of the main commercially available xxunk for municipal solid wastes . xxmaj the analysis indicates that xxunk is a technically viable option for the solid waste conversion , including residual waste from separate collection of municipal solid waste . xxmaj it is able to meet existing emission limits and can have a remarkable effect on reduction of landfill disposal option .,xxbos xxmaj unintended changes in plant physiology , anatomy and metabolism as a result of genetic engineering are a concern as more transgenic plants are commercially deployed in the ecosystem . xxmaj we compared the cell wall chemical composition of three xxmaj xxunk lines ( xxmaj xxunk xxunk xxmaj torr . & xxup a. xxmaj gray x xxmaj xxunk xxunk xxmaj xxunk . ex xxmaj xxunk . , xxmaj xxunk xxunk x xxmaj xxunk nigra xxup l. and xxmaj xxunk xxunk x xxmaj xxunk nigra ) genetically modified to express the xxunk or xxunk protein of xxmaj bacillus thuringiensis ( xxmaj bt ) with the cell wall chemistry of non - transformed isogenic control lines . xxmaj three genetically modified clones , each represented by 10 independent transgenic lines , were analyzed by pyrolysis molecular beam mass spectrometry , gas chromatography / mass spectrometry and traditional wet chemical analytical methods to assess changes in cell wall composition . xxmaj based on the outcome of these techniques , there were no comprehensive differences in chemical composition between the transgenic and control lines for any of the studied clones .,xxbos xxup w. xxmaj xxunk 's and xxup g. xxmaj xxunk - xxmaj xxunk 's opinion , according to which in the majority of infections in practice an etiological ( microbiological ) diagnosis may be xxunk and the xxunk xxunk \" before therapy the xxunk have placed the diagnosis \" should be xxunk for the situation in the practice in contrast to the situation in the clinic , is opposed . xxmaj microbiological findings represent an xxunk basis for a rational antimicrobial chemotherapy in practice and clinic . xxmaj in the individual case this does not exclude a calculated chemotherapy on account of a clinical and microbiological tentative diagnosis made by the physician in charge . xxmaj but at the latest when the empiric therapy fails an efficient xxunk diagnostics must be at our disposal .,xxbos xxmaj the article reports on the phytochemical and biological potentials of leaves and stems of xxmaj xxunk xxunk xxmaj xxunk . ( xxmaj fam . xxmaj xxunk ) . xxmaj study indicated that crude extracts from the leaves and stems of the plant have high biological activity . xxmaj cytotoxicity was assessed using xxunk on an automated xxunk xxmaj xxunk xxmaj ascent xxup f1 xxunk plate xxunk ( xxmaj xxunk ) using excitation and emission wavelengths of 530 nm and xxunk nm , respectively . xxmaj high cytotoxic activity ( < xxunk µg / ml ) of both extracts toward lung carcinoma cell lines was elucidated . xxmaj the specificity of extracts to xxup xxunk human fibroblast cell lines was observed . xxmaj for the first time , the profiles of compounds with xxunk and phenolic nature were described in xxmaj xxunk xxunk leaves and stems xxunk extracts by xxup tlc and ( xxup hplc - xxup xxunk - xxup ms ) techniques .,xxbos xxmaj xxunk plant is a particular group of desert flora only distributed in northern xxmaj xinjiang , xxmaj china . xxmaj in this study , field surveys of vegetation and soil moisture were conducted in the southern area of the xxmaj xxunk desert from xxmaj march to xxmaj august 2002 . xxmaj the species number , coverage and growth of xxunk and soil moisture were measured in 7 xxunk at different xxunk positions on the longitudinal xxunk surface . xxmaj the results showed that soil moisture in a depth of 0 - 30 cm affected xxunk plants distribution significantly . xxmaj in early spring , the soil moisture was xxunk % on the xxunk , xxunk % on the xxunk , and xxunk % on the crest . xxmaj consequently , the average coverage of xxunk plants reached xxunk % , xxunk % and 4.4 % , respectively . xxmaj the existence of xxunk plants distribution influenced soil moisture as well . xxmaj in later xxmaj may , there was an increase of surface soil moisture from the xxunk to the crest . xxmaj the soil moisture was 1.00 % on the xxunk , xxunk % on the xxunk , and xxunk % on the crest .\n",
       "y: CategoryList\n",
       "['Gases'],['Bacterial Toxins'],['Anti-Bacterial Agents'],['Antineoplastic Agents, Phytogenic', 'Plant Extracts'],['Soil', 'Water']\n",
       "Path: fastai;\n",
       "\n",
       "Test: None"
      ]
     },
     "execution_count": 37,
     "metadata": {},
     "output_type": "execute_result"
    }
   ],
   "source": [
    "data_clas"
   ]
  },
  {
   "cell_type": "code",
   "execution_count": 35,
   "metadata": {},
   "outputs": [],
   "source": [
    "best_params, best_run = hyper_param_clas_search(3, params)"
   ]
  },
  {
   "cell_type": "code",
   "execution_count": 25,
   "metadata": {},
   "outputs": [
    {
     "data": {
      "text/plain": [
       "{'bs': 32,\n",
       " 'thresh': 0.09172097400650732,\n",
       " 'drop_mult': 0.5874018194987243,\n",
       " 'epochs': 1,\n",
       " 'num_samples': 50000,\n",
       " 'encodings': 'learn_lm_enc_sample_50000.pkl_bs_128_dropmult_0.6450787380744305'}"
      ]
     },
     "execution_count": 25,
     "metadata": {},
     "output_type": "execute_result"
    }
   ],
   "source": [
    "best_params"
   ]
  },
  {
   "cell_type": "code",
   "execution_count": null,
   "metadata": {},
   "outputs": [],
   "source": []
  },
  {
   "cell_type": "code",
   "execution_count": 26,
   "metadata": {},
   "outputs": [
    {
     "data": {
      "text/plain": [
       "0.027751296758651733"
      ]
     },
     "execution_count": 26,
     "metadata": {},
     "output_type": "execute_result"
    }
   ],
   "source": [
    "best_run[0]"
   ]
  },
  {
   "cell_type": "code",
   "execution_count": 27,
   "metadata": {},
   "outputs": [],
   "source": [
    "best_params[\"epochs\"] = 10"
   ]
  },
  {
   "cell_type": "code",
   "execution_count": 28,
   "metadata": {},
   "outputs": [
    {
     "data": {
      "text/html": [
       "\n",
       "    <div>\n",
       "        <style>\n",
       "            /* Turns off some styling */\n",
       "            progress {\n",
       "                /* gets rid of default border in Firefox and Opera. */\n",
       "                border: none;\n",
       "                /* Needs to be in here for Safari polyfill so background images work as expected. */\n",
       "                background-size: auto;\n",
       "            }\n",
       "            .progress-bar-interrupted, .progress-bar-interrupted::-webkit-progress-bar {\n",
       "                background: #F44336;\n",
       "            }\n",
       "        </style>\n",
       "      <progress value='0' class='' max='1' style='width:300px; height:20px; vertical-align: middle;'></progress>\n",
       "      0.00% [0/1 00:00<00:00]\n",
       "    </div>\n",
       "    \n",
       "<table border=\"1\" class=\"dataframe\">\n",
       "  <thead>\n",
       "    <tr style=\"text-align: left;\">\n",
       "      <th>epoch</th>\n",
       "      <th>train_loss</th>\n",
       "      <th>valid_loss</th>\n",
       "      <th>accuracy_thresh</th>\n",
       "      <th>fbeta</th>\n",
       "      <th>time</th>\n",
       "    </tr>\n",
       "  </thead>\n",
       "  <tbody>\n",
       "  </tbody>\n",
       "</table><p>\n",
       "\n",
       "    <div>\n",
       "        <style>\n",
       "            /* Turns off some styling */\n",
       "            progress {\n",
       "                /* gets rid of default border in Firefox and Opera. */\n",
       "                border: none;\n",
       "                /* Needs to be in here for Safari polyfill so background images work as expected. */\n",
       "                background-size: auto;\n",
       "            }\n",
       "            .progress-bar-interrupted, .progress-bar-interrupted::-webkit-progress-bar {\n",
       "                background: #F44336;\n",
       "            }\n",
       "        </style>\n",
       "      <progress value='196' class='' max='781' style='width:300px; height:20px; vertical-align: middle;'></progress>\n",
       "      25.10% [196/781 00:12<00:36 0.3516]\n",
       "    </div>\n",
       "    "
      ],
      "text/plain": [
       "<IPython.core.display.HTML object>"
      ]
     },
     "metadata": {},
     "output_type": "display_data"
    },
    {
     "name": "stdout",
     "output_type": "stream",
     "text": [
      "LR Finder is complete, type {learner_name}.recorder.plot() to see the graph.\n",
      "Min numerical gradient: 2.51E-02\n",
      "Min loss divided by 10: 4.79E-01\n"
     ]
    },
    {
     "data": {
      "text/html": [
       "<table border=\"1\" class=\"dataframe\">\n",
       "  <thead>\n",
       "    <tr style=\"text-align: left;\">\n",
       "      <th>epoch</th>\n",
       "      <th>train_loss</th>\n",
       "      <th>valid_loss</th>\n",
       "      <th>accuracy_thresh</th>\n",
       "      <th>fbeta</th>\n",
       "      <th>time</th>\n",
       "    </tr>\n",
       "  </thead>\n",
       "  <tbody>\n",
       "    <tr>\n",
       "      <td>0</td>\n",
       "      <td>0.001928</td>\n",
       "      <td>0.001696</td>\n",
       "      <td>0.999724</td>\n",
       "      <td>0.040357</td>\n",
       "      <td>01:06</td>\n",
       "    </tr>\n",
       "  </tbody>\n",
       "</table>"
      ],
      "text/plain": [
       "<IPython.core.display.HTML object>"
      ]
     },
     "metadata": {},
     "output_type": "display_data"
    },
    {
     "name": "stdout",
     "output_type": "stream",
     "text": [
      "Better model found at epoch 0 with fbeta value: 0.04035665839910507.\n"
     ]
    },
    {
     "data": {
      "text/html": [
       "\n",
       "    <div>\n",
       "        <style>\n",
       "            /* Turns off some styling */\n",
       "            progress {\n",
       "                /* gets rid of default border in Firefox and Opera. */\n",
       "                border: none;\n",
       "                /* Needs to be in here for Safari polyfill so background images work as expected. */\n",
       "                background-size: auto;\n",
       "            }\n",
       "            .progress-bar-interrupted, .progress-bar-interrupted::-webkit-progress-bar {\n",
       "                background: #F44336;\n",
       "            }\n",
       "        </style>\n",
       "      <progress value='0' class='' max='1' style='width:300px; height:20px; vertical-align: middle;'></progress>\n",
       "      0.00% [0/1 00:00<00:00]\n",
       "    </div>\n",
       "    \n",
       "<table border=\"1\" class=\"dataframe\">\n",
       "  <thead>\n",
       "    <tr style=\"text-align: left;\">\n",
       "      <th>epoch</th>\n",
       "      <th>train_loss</th>\n",
       "      <th>valid_loss</th>\n",
       "      <th>accuracy_thresh</th>\n",
       "      <th>fbeta</th>\n",
       "      <th>time</th>\n",
       "    </tr>\n",
       "  </thead>\n",
       "  <tbody>\n",
       "  </tbody>\n",
       "</table><p>\n",
       "\n",
       "    <div>\n",
       "        <style>\n",
       "            /* Turns off some styling */\n",
       "            progress {\n",
       "                /* gets rid of default border in Firefox and Opera. */\n",
       "                border: none;\n",
       "                /* Needs to be in here for Safari polyfill so background images work as expected. */\n",
       "                background-size: auto;\n",
       "            }\n",
       "            .progress-bar-interrupted, .progress-bar-interrupted::-webkit-progress-bar {\n",
       "                background: #F44336;\n",
       "            }\n",
       "        </style>\n",
       "      <progress value='178' class='' max='781' style='width:300px; height:20px; vertical-align: middle;'></progress>\n",
       "      22.79% [178/781 00:20<01:10 0.0069]\n",
       "    </div>\n",
       "    "
      ],
      "text/plain": [
       "<IPython.core.display.HTML object>"
      ]
     },
     "metadata": {},
     "output_type": "display_data"
    },
    {
     "name": "stdout",
     "output_type": "stream",
     "text": [
      "LR Finder is complete, type {learner_name}.recorder.plot() to see the graph.\n",
      "Min numerical gradient: 4.79E-07\n",
      "Min loss divided by 10: 2.51E-04\n"
     ]
    },
    {
     "data": {
      "text/html": [
       "\n",
       "    <div>\n",
       "        <style>\n",
       "            /* Turns off some styling */\n",
       "            progress {\n",
       "                /* gets rid of default border in Firefox and Opera. */\n",
       "                border: none;\n",
       "                /* Needs to be in here for Safari polyfill so background images work as expected. */\n",
       "                background-size: auto;\n",
       "            }\n",
       "            .progress-bar-interrupted, .progress-bar-interrupted::-webkit-progress-bar {\n",
       "                background: #F44336;\n",
       "            }\n",
       "        </style>\n",
       "      <progress value='7' class='' max='10' style='width:300px; height:20px; vertical-align: middle;'></progress>\n",
       "      70.00% [7/10 13:13<05:40]\n",
       "    </div>\n",
       "    \n",
       "<table border=\"1\" class=\"dataframe\">\n",
       "  <thead>\n",
       "    <tr style=\"text-align: left;\">\n",
       "      <th>epoch</th>\n",
       "      <th>train_loss</th>\n",
       "      <th>valid_loss</th>\n",
       "      <th>accuracy_thresh</th>\n",
       "      <th>fbeta</th>\n",
       "      <th>time</th>\n",
       "    </tr>\n",
       "  </thead>\n",
       "  <tbody>\n",
       "    <tr>\n",
       "      <td>0</td>\n",
       "      <td>0.001924</td>\n",
       "      <td>0.001703</td>\n",
       "      <td>0.999735</td>\n",
       "      <td>0.035190</td>\n",
       "      <td>01:48</td>\n",
       "    </tr>\n",
       "    <tr>\n",
       "      <td>1</td>\n",
       "      <td>0.001924</td>\n",
       "      <td>0.001712</td>\n",
       "      <td>0.999710</td>\n",
       "      <td>0.046403</td>\n",
       "      <td>01:46</td>\n",
       "    </tr>\n",
       "    <tr>\n",
       "      <td>2</td>\n",
       "      <td>nan</td>\n",
       "      <td>nan</td>\n",
       "      <td>0.999758</td>\n",
       "      <td>0.000000</td>\n",
       "      <td>01:56</td>\n",
       "    </tr>\n",
       "    <tr>\n",
       "      <td>3</td>\n",
       "      <td>nan</td>\n",
       "      <td>nan</td>\n",
       "      <td>0.999758</td>\n",
       "      <td>0.000000</td>\n",
       "      <td>01:52</td>\n",
       "    </tr>\n",
       "    <tr>\n",
       "      <td>4</td>\n",
       "      <td>nan</td>\n",
       "      <td>nan</td>\n",
       "      <td>0.999758</td>\n",
       "      <td>0.000000</td>\n",
       "      <td>01:57</td>\n",
       "    </tr>\n",
       "    <tr>\n",
       "      <td>5</td>\n",
       "      <td>nan</td>\n",
       "      <td>nan</td>\n",
       "      <td>0.999758</td>\n",
       "      <td>0.000000</td>\n",
       "      <td>01:52</td>\n",
       "    </tr>\n",
       "    <tr>\n",
       "      <td>6</td>\n",
       "      <td>nan</td>\n",
       "      <td>nan</td>\n",
       "      <td>0.999758</td>\n",
       "      <td>0.000000</td>\n",
       "      <td>01:58</td>\n",
       "    </tr>\n",
       "  </tbody>\n",
       "</table><p>\n",
       "\n",
       "    <div>\n",
       "        <style>\n",
       "            /* Turns off some styling */\n",
       "            progress {\n",
       "                /* gets rid of default border in Firefox and Opera. */\n",
       "                border: none;\n",
       "                /* Needs to be in here for Safari polyfill so background images work as expected. */\n",
       "                background-size: auto;\n",
       "            }\n",
       "            .progress-bar-interrupted, .progress-bar-interrupted::-webkit-progress-bar {\n",
       "                background: #F44336;\n",
       "            }\n",
       "        </style>\n",
       "      <progress value='782' class='' max='782' style='width:300px; height:20px; vertical-align: middle;'></progress>\n",
       "      100.00% [782/782 00:27<00:00]\n",
       "    </div>\n",
       "    "
      ],
      "text/plain": [
       "<IPython.core.display.HTML object>"
      ]
     },
     "metadata": {},
     "output_type": "display_data"
    },
    {
     "name": "stdout",
     "output_type": "stream",
     "text": [
      "Better model found at epoch 0 with fbeta value: 0.035189878195524216.\n",
      "Better model found at epoch 1 with fbeta value: 0.04640305042266846.\n",
      "Epoch 7: early stopping\n"
     ]
    },
    {
     "data": {
      "image/png": "[encoded data removed]",
      "text/plain": [
       "<Figure size 432x288 with 1 Axes>"
      ]
     },
     "metadata": {
      "needs_background": "light"
     },
     "output_type": "display_data"
    },
    {
     "data": {
      "image/png": "[encoded data removed]",
      "text/plain": [
       "<Figure size 432x288 with 1 Axes>"
      ]
     },
     "metadata": {
      "needs_background": "light"
     },
     "output_type": "display_data"
    }
   ],
   "source": [
    "best_fbeta, model_name, learn_clas, data_clas = train_clas_model(**best_params)"
   ]
  },
  {
   "cell_type": "code",
   "execution_count": 47,
   "metadata": {},
   "outputs": [],
   "source": [
    "text = 'The effect of prenatal alcohol exposure on nerve cell development was investigated in neurons and glial cells cultured from fetal rat brain. Neurons were grown for one week from two week-old cortical brain cells and glial cells were cultured during four weeks from new born cortical brain cells. Two situations were examined: maternal alcohol treatment before and during pregnancy and alcohol exposure only until the beginning of pregnancy. In both situations we found a delayed nerve cell maturation assessed by biochemical markers like enolase and glutamine synthetase. Alterations of lactate dehydrogenase activity and reduced superoxide dismutase activity, involved in free radicals elimination were also observed. \"In vitro\" addition of alcohol to the culture medium produced an additional effect showing a lower response in the prenatal alcohol exposed brain cells than in the controls. The results confirm our previous \"in vivo\" experiments showing long lasting effects of maternal alcohol exposure in the offspring.'\n",
    "\n",
    "preds = \"\"\"\n",
    "        Ethanol\n",
    "        L-Lactate Dehydrogenase\n",
    "        Biomarkers\n",
    "        Superoxide Dismutase\n",
    "        Aspartate Aminotransferases\n",
    "        \"\"\""
   ]
  },
  {
   "cell_type": "code",
   "execution_count": 43,
   "metadata": {},
   "outputs": [],
   "source": [
    "text = \"Intrarenal interleukin-15 (IL-15) plays a major role controlling epithelial survival and polarization both in physiological and pathologic conditions. Herein, we confirmed that human renal cell carcinomas (RCCs) express a membrane-bound IL-15 isoform displaying an unusual molecular weight of 27 kDa. Its stimulation with soluble IL-15 receptor α chain (s-IL-15Rα) triggers epithelial-mesenchymal transition (EMT) process as shown by the down-regulation of E-cadherin and zona occludens 1 and the up-regulation of vimentin and N-cadherin and promotes the migratory and invasive properties of RCC. S-IL-15Rα treatment triggered the Src/PI3K/Akt/GSK-3β pathway and promoted β-catenin nuclei translocation. Deactivation of this pathway by using Src-specific inhibitor PP2, PI3K inhibitor LY294002, and AKT inhibitor MK2206 hampered β-catenin nuclei translocation and suppressed EMT, migration, and invasion of RCC. S-IL-15Rα treatment also enhanced Src-dependent phosphorylation of focal adhesion kinase (FAK) and extracellular signal-regulated kinase (Erk1/2). FAK knockdown significantly decreased the migration and invasion of RCC, which suggest that Src-FAK signaling was involved in s-IL-15Rα-favored migration and invasion of RCC. At the same time, inhibitors of Erk1/2 also significantly decreased the migration and invasion of RCC but could not reverse s-IL-15Rα-induced EMT. Taken together, our results reveal that Src-dependent PI3K/Akt/GSK3b/β-catenin pathway is required for s-IL-15Ra-dependent induction of EMT in RCC, while Src-FAK and Src-Erk1/2 signaling were involved in s-IL-15Rα-promoted migration and invasion properties of RCC. Our study provides a better understanding of IL-15 signaling in RCC tumor progression, which may lead to novel targeted therapies and provide some suggestions when using IL-15 in clinic. \""
   ]
  },
  {
   "cell_type": "code",
   "execution_count": 43,
   "metadata": {},
   "outputs": [],
   "source": [
    "# preds,targs = learn_clas.get_preds()"
   ]
  },
  {
   "cell_type": "code",
   "execution_count": 48,
   "metadata": {},
   "outputs": [],
   "source": [
    "# pred = learn_clas.predict(text, thresh=0.05)\n",
    "pred = learn_clas.predict(text)"
   ]
  },
  {
   "cell_type": "code",
   "execution_count": 45,
   "metadata": {},
   "outputs": [
    {
     "data": {
      "text/plain": [
       "tensor(0.2616)"
      ]
     },
     "execution_count": 45,
     "metadata": {},
     "output_type": "execute_result"
    }
   ],
   "source": [
    "max(pred[2])"
   ]
  },
  {
   "cell_type": "code",
   "execution_count": 48,
   "metadata": {},
   "outputs": [
    {
     "name": "stdout",
     "output_type": "stream",
     "text": [
      "tensor(0.)\n"
     ]
    },
    {
     "data": {
      "text/plain": [
       "[]"
      ]
     },
     "execution_count": 48,
     "metadata": {},
     "output_type": "execute_result"
    }
   ],
   "source": [
    "print(sum(pred[1]))\n",
    "pred[0].obj"
   ]
  },
  {
   "cell_type": "code",
   "execution_count": 49,
   "metadata": {},
   "outputs": [
    {
     "name": "stdout",
     "output_type": "stream",
     "text": [
      "Dopamine\n",
      "RNA, Messenger\n",
      "Insulin\n",
      "Estradiol\n",
      "Biomarkers\n"
     ]
    }
   ],
   "source": [
    "idxs = []\n",
    "preds = list(np.argsort(pred[2]))[::-1]\n",
    "for p in preds[:5]:\n",
    "    idxs.append(p.item())\n",
    "for idx in idxs:\n",
    "    print(data_clas.classes[idx])"
   ]
  },
  {
   "cell_type": "code",
   "execution_count": 240,
   "metadata": {},
   "outputs": [],
   "source": [
    "df_sample = pd.read_pickle(\"pickle/master_frame_sample_10000.pkl\")"
   ]
  },
  {
   "cell_type": "code",
   "execution_count": 244,
   "metadata": {},
   "outputs": [
    {
     "data": {
      "text/plain": [
       "'Intrarenal interleukin-15 (IL-15) plays a major role controlling epithelial survival and polarization both in physiological and pathologic conditions. Herein, we confirmed that human renal cell carcinomas (RCCs) express a membrane-bound IL-15 isoform displaying an unusual molecular weight of 27 kDa. Its stimulation with soluble IL-15 receptor α chain (s-IL-15Rα) triggers epithelial-mesenchymal transition (EMT) process as shown by the down-regulation of E-cadherin and zona occludens 1 and the up-regulation of vimentin and N-cadherin and promotes the migratory and invasive properties of RCC. S-IL-15Rα treatment triggered the Src/PI3K/Akt/GSK-3β pathway and promoted β-catenin nuclei translocation. Deactivation of this pathway by using Src-specific inhibitor PP2, PI3K inhibitor LY294002, and AKT inhibitor MK2206 hampered β-catenin nuclei translocation and suppressed EMT, migration, and invasion of RCC. S-IL-15Rα treatment also enhanced Src-dependent phosphorylation of focal adhesion kinase (FAK) and extracellular signal-regulated kinase (Erk1/2). FAK knockdown significantly decreased the migration and invasion of RCC, which suggest that Src-FAK signaling was involved in s-IL-15Rα-favored migration and invasion of RCC. At the same time, inhibitors of Erk1/2 also significantly decreased the migration and invasion of RCC but could not reverse s-IL-15Rα-induced EMT. Taken together, our results reveal that Src-dependent PI3K/Akt/GSK3b/β-catenin pathway is required for s-IL-15Ra-dependent induction of EMT in RCC, while Src-FAK and Src-Erk1/2 signaling were involved in s-IL-15Rα-promoted migration and invasion properties of RCC. Our study provides a better understanding of IL-15 signaling in RCC tumor progression, which may lead to novel targeted therapies and provide some suggestions when using IL-15 in clinic. '"
      ]
     },
     "execution_count": 244,
     "metadata": {},
     "output_type": "execute_result"
    }
   ],
   "source": [
    "np.random.choice(np.array(df_sample[\"abstract\"].to_list()))"
   ]
  },
  {
   "cell_type": "code",
   "execution_count": null,
   "metadata": {},
   "outputs": [],
   "source": []
  }
 ],
 "metadata": {
  "kernelspec": {
   "display_name": "Python 3",
   "language": "python",
   "name": "python3"
  },
  "language_info": {
   "codemirror_mode": {
    "name": "ipython",
    "version": 3
   },
   "file_extension": ".py",
   "mimetype": "text/x-python",
   "name": "python",
   "nbconvert_exporter": "python",
   "pygments_lexer": "ipython3",
   "version": "3.6.8"
  }
 },
 "nbformat": 4,
 "nbformat_minor": 4
}

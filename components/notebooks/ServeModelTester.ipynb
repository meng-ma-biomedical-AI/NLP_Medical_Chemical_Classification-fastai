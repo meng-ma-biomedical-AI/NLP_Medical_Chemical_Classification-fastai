{
 "cells": [
  {
   "cell_type": "markdown",
   "metadata": {},
   "source": [
    "# Model Server Testing\n",
    "\n",
    "Test model server via HTTP calls "
   ]
  },
  {
   "cell_type": "code",
   "execution_count": 1,
   "metadata": {},
   "outputs": [],
   "source": [
    "# nuclio: ignore\n",
    "import nuclio"
   ]
  },
  {
   "cell_type": "code",
   "execution_count": 2,
   "metadata": {},
   "outputs": [],
   "source": [
    "# nuclio: start-code"
   ]
  },
  {
   "cell_type": "code",
   "execution_count": 3,
   "metadata": {},
   "outputs": [
    {
     "name": "stdout",
     "output_type": "stream",
     "text": [
      "%nuclio: setting spec.image to 'mlrun/mlrun'\n",
      "%nuclio: setting kind to 'job'\n"
     ]
    }
   ],
   "source": [
    "%nuclio config spec.image = \"mlrun/mlrun\"\n",
    "%nuclio config kind = \"job\""
   ]
  },
  {
   "cell_type": "code",
   "execution_count": 4,
   "metadata": {},
   "outputs": [],
   "source": [
    "import os\n",
    "import pandas as pd\n",
    "import requests\n",
    "import json\n",
    "import numpy as np\n",
    "import pickle\n",
    "\n",
    "def model_server_tester(context, model_endpoint, model_name, data_size, data_path, num_tests):\n",
    "    # Ensure correct data types\n",
    "    model_endpoint = str(model_endpoint)\n",
    "    model_name = str(model_name)\n",
    "    data_size = int(str(data_size))\n",
    "    data_path = str(data_path)\n",
    "    num_tests = int(str(num_tests))\n",
    "    \n",
    "    # Load data\n",
    "    df = pd.read_pickle(data_path)\n",
    "    df.drop('title', axis=1, inplace=True)\n",
    "    \n",
    "    # Get subset of data that was trained on\n",
    "    df = df.sample(data_size, random_state=1)\n",
    "    \n",
    "    # Get random sample\n",
    "    df = df.sample(num_tests)\n",
    "    \n",
    "    # Get text and target\n",
    "    X = df['abstract'].to_list()\n",
    "    y = df['chemicals'].to_list()\n",
    "    \n",
    "    # Get predictions\n",
    "    for text, target in zip(X, y):\n",
    "        event_body = json.dumps({\"instances\": [text]})\n",
    "        headers = {'Content-type': 'application/json'}\n",
    "        response = requests.post(url=model_endpoint + f'/{model_name}/predict', data=event_body, headers=headers)\n",
    "        pred = response.content\n",
    "        \n",
    "        # Print\n",
    "        print(\"Text:\\n\", text)\n",
    "        print(\"Targets:\\n\", target)\n",
    "        print(\"Preds:\\n\", str(pred))\n",
    "        print(\"\\n\")"
   ]
  },
  {
   "cell_type": "code",
   "execution_count": 5,
   "metadata": {},
   "outputs": [],
   "source": [
    "# nuclio: end-code\n",
    "# marks the end of a code section"
   ]
  },
  {
   "cell_type": "code",
   "execution_count": 6,
   "metadata": {},
   "outputs": [
    {
     "name": "stdout",
     "output_type": "stream",
     "text": [
      "Artifacts path: /User/nlp/components/jobs\n",
      "MLRun DB path: http://mlrun-api:8080\n"
     ]
    }
   ],
   "source": [
    "from mlrun import mlconf\n",
    "import os\n",
    "from os import path\n",
    "\n",
    "# Target location for storing pipeline artifacts\n",
    "artifact_path = path.abspath('../jobs')\n",
    "# MLRun DB path or API service URL\n",
    "mlconf.dbpath = mlconf.dbpath or 'http://mlrun-api:8080'\n",
    "\n",
    "print(f'Artifacts path: {artifact_path}\\nMLRun DB path: {mlconf.dbpath}')"
   ]
  },
  {
   "cell_type": "code",
   "execution_count": 7,
   "metadata": {},
   "outputs": [
    {
     "name": "stdout",
     "output_type": "stream",
     "text": [
      "> 2020-08-13 19:02:50,370 [info] function spec saved to path: ../yaml/model_server_tester.yaml\n"
     ]
    },
    {
     "data": {
      "text/plain": [
       "<mlrun.runtimes.kubejob.KubejobRuntime at 0x7f869f9d46a0>"
      ]
     },
     "execution_count": 7,
     "metadata": {},
     "output_type": "execute_result"
    }
   ],
   "source": [
    "from mlrun import code_to_function \n",
    "# create job function object from notebook code\n",
    "fn = code_to_function(\"model_server_tester\")\n",
    "\n",
    "# add metadata (for templates and reuse)\n",
    "fn.spec.default_handler = \"model_server_tester\"\n",
    "fn.spec.description = \"model server tester for fastai nlp\"\n",
    "fn.metadata.categories = [\"serving\", \"ml\"]\n",
    "fn.metadata.labels = {\"author\": \"nschenone\"}\n",
    "fn.export(\"../yaml/model_server_tester.yaml\")"
   ]
  },
  {
   "cell_type": "code",
   "execution_count": null,
   "metadata": {},
   "outputs": [],
   "source": []
  }
 ],
 "metadata": {
  "kernelspec": {
   "display_name": "Python 3",
   "language": "python",
   "name": "python3"
  },
  "language_info": {
   "codemirror_mode": {
    "name": "ipython",
    "version": 3
   },
   "file_extension": ".py",
   "mimetype": "text/x-python",
   "name": "python",
   "nbconvert_exporter": "python",
   "pygments_lexer": "ipython3",
   "version": "3.6.8"
  }
 },
 "nbformat": 4,
 "nbformat_minor": 4
}

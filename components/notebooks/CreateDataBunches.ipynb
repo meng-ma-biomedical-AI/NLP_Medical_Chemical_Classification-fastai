{
 "cells": [
  {
   "cell_type": "markdown",
   "metadata": {},
   "source": [
    "### Create data bunches"
   ]
  },
  {
   "cell_type": "code",
   "execution_count": 1,
   "metadata": {},
   "outputs": [],
   "source": [
    "# nuclio: ignore\n",
    "import nuclio"
   ]
  },
  {
   "cell_type": "code",
   "execution_count": 2,
   "metadata": {},
   "outputs": [],
   "source": [
    "# nuclio: start-code"
   ]
  },
  {
   "cell_type": "code",
   "execution_count": 3,
   "metadata": {},
   "outputs": [
    {
     "name": "stdout",
     "output_type": "stream",
     "text": [
      "%nuclio: setting spec.image to 'mlrun/ml-models-gpu'\n",
      "%nuclio: setting kind to 'job'\n"
     ]
    }
   ],
   "source": [
    "%nuclio config spec.image = \"mlrun/ml-models-gpu\"\n",
    "%nuclio config kind = \"job\""
   ]
  },
  {
   "cell_type": "code",
   "execution_count": 4,
   "metadata": {},
   "outputs": [],
   "source": [
    "from os import path\n",
    "import pandas as pd\n",
    "import numpy as np\n",
    "import random\n",
    "import fastai\n",
    "from fastai.text import *\n",
    "from fastai.callbacks import *\n",
    "from pickle import dumps\n",
    "\n",
    "# Create fastai data bunches    \n",
    "def create_data_bunches(context, data_path, split):\n",
    "    split = float(str(split))\n",
    "    # Create Language Model DataBunch\n",
    "    print(f\"Creating Language Model DataBunch\")\n",
    "    df_sample = pd.read_pickle(str(data_path))\n",
    "\n",
    "    X = df_sample[:int(len(df_sample)*split)]\n",
    "    y = df_sample[int(len(df_sample)*(1-split)):]\n",
    "\n",
    "    data_out_path = '/User/nlp/run/data_lm.pkl'\n",
    "    data_lm = TextLMDataBunch.from_df(path=\"\", train_df=X, valid_df=y)\n",
    "    data_lm.save(data_out_path)\n",
    "    context.logger.info(f'Saving data_lm to {data_out_path} ...')\n",
    "    context.log_result(key='data_lm', value=data_out_path)\n",
    "\n",
    "    \n",
    "    # Create Classification DataBunch\n",
    "    print(f\"Creating Classification DataBunch\")\n",
    "    df_sample.drop(\"title\", axis=1, inplace=True)\n",
    "    df_sample.columns = ['text', 'target']\n",
    "    df_sample = df_sample[['target', 'text']]\n",
    "\n",
    "    X = df_sample[:int(len(df_sample)*split)]\n",
    "    y = df_sample[int(len(df_sample)*(1-split)):]\n",
    "\n",
    "    data_out_path = '/User/nlp/run/data_clas.pkl'\n",
    "    data_clas = TextClasDataBunch.from_df(path=\"\", train_df=X, valid_df=y, vocab=data_lm.vocab)\n",
    "    data_clas.save(data_out_path)\n",
    "    \n",
    "    context.logger.info(f'Saving data_clas to {data_out_path} ...')\n",
    "    context.log_result(key='data_clas', value=data_out_path)"
   ]
  },
  {
   "cell_type": "code",
   "execution_count": 5,
   "metadata": {},
   "outputs": [],
   "source": [
    "# nuclio: end-code"
   ]
  },
  {
   "cell_type": "code",
   "execution_count": 6,
   "metadata": {},
   "outputs": [
    {
     "name": "stdout",
     "output_type": "stream",
     "text": [
      "Artifacts path: /User/nlp/components/jobs\n",
      "MLRun DB path: http://mlrun-api:8080\n"
     ]
    }
   ],
   "source": [
    "from mlrun import mlconf\n",
    "import os\n",
    "from os import path\n",
    "\n",
    "# Target location for storing pipeline artifacts\n",
    "artifact_path = path.abspath('../jobs')\n",
    "# MLRun DB path or API service URL\n",
    "mlconf.dbpath = mlconf.dbpath or 'http://mlrun-api:8080'\n",
    "\n",
    "print(f'Artifacts path: {artifact_path}\\nMLRun DB path: {mlconf.dbpath}')"
   ]
  },
  {
   "cell_type": "code",
   "execution_count": 7,
   "metadata": {},
   "outputs": [
    {
     "name": "stdout",
     "output_type": "stream",
     "text": [
      "> 2020-08-13 18:58:54,193 [info] function spec saved to path: ../yaml/create_data_bunches.yaml\n"
     ]
    },
    {
     "data": {
      "text/plain": [
       "<mlrun.runtimes.kubejob.KubejobRuntime at 0x7f8e40c9fb00>"
      ]
     },
     "execution_count": 7,
     "metadata": {},
     "output_type": "execute_result"
    }
   ],
   "source": [
    "from mlrun import code_to_function \n",
    "# create job function object from notebook code\n",
    "fn = code_to_function(\"create_data_bunches\")\n",
    "\n",
    "# add metadata (for templates and reuse)\n",
    "fn.spec.default_handler = \"create_data_bunches\"\n",
    "fn.spec.description = \"create fastai data bunches\"\n",
    "fn.metadata.categories = [\"data-source\", \"ml\"]\n",
    "fn.metadata.labels = {\"author\": \"nschenone\"}\n",
    "fn.export(\"../yaml/create_data_bunches.yaml\")"
   ]
  },
  {
   "cell_type": "code",
   "execution_count": null,
   "metadata": {},
   "outputs": [],
   "source": []
  }
 ],
 "metadata": {
  "kernelspec": {
   "display_name": "Python 3",
   "language": "python",
   "name": "python3"
  },
  "language_info": {
   "codemirror_mode": {
    "name": "ipython",
    "version": 3
   },
   "file_extension": ".py",
   "mimetype": "text/x-python",
   "name": "python",
   "nbconvert_exporter": "python",
   "pygments_lexer": "ipython3",
   "version": "3.6.8"
  }
 },
 "nbformat": 4,
 "nbformat_minor": 4
}

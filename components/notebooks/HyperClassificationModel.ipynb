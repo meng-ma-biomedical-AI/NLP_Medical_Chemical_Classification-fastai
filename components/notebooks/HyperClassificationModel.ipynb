{
 "cells": [
  {
   "cell_type": "markdown",
   "metadata": {},
   "source": [
    "### Hyperparameter tuning for Classification Model"
   ]
  },
  {
   "cell_type": "code",
   "execution_count": 1,
   "metadata": {},
   "outputs": [],
   "source": [
    "import nuclio"
   ]
  },
  {
   "cell_type": "code",
   "execution_count": 2,
   "metadata": {},
   "outputs": [],
   "source": [
    "# nuclio: start-code"
   ]
  },
  {
   "cell_type": "code",
   "execution_count": 3,
   "metadata": {},
   "outputs": [
    {
     "name": "stdout",
     "output_type": "stream",
     "text": [
      "%nuclio: setting spec.image to 'mlrun/ml-models-gpu'\n",
      "%nuclio: setting kind to 'job'\n"
     ]
    }
   ],
   "source": [
    "%nuclio config spec.image = \"mlrun/ml-models-gpu\"\n",
    "%nuclio config kind = \"job\""
   ]
  },
  {
   "cell_type": "code",
   "execution_count": 4,
   "metadata": {},
   "outputs": [],
   "source": [
    "from os import path\n",
    "import pandas as pd\n",
    "import numpy as np\n",
    "import random\n",
    "import fastai\n",
    "import json\n",
    "from fastai.text import *\n",
    "from fastai.callbacks import *\n",
    "torch.cuda.set_device(0)\n",
    "\n",
    "def get_min_grad(model):\n",
    "    model.lr_find(num_it=200)\n",
    "    model.recorder.plot(suggestion=True)\n",
    "    return model.recorder.min_grad_lr\n",
    "\n",
    "def train_clas_model(context):\n",
    "    # Load params\n",
    "    bs = int(context.get_param('bs'))\n",
    "    thresh = float(context.get_param('thresh'))\n",
    "    drop_mult = float(context.get_param('drop_mult'))\n",
    "    epochs = int(context.get_param('epochs'))\n",
    "    num_samples = int(context.get_param('num_samples'))\n",
    "    encodings = context.get_param('encodings')\n",
    "    data_clas_path = context.get_param('data_clas_path')\n",
    "    \n",
    "    # Load data\n",
    "    version = f\"sample_{num_samples}.pkl\"\n",
    "    data_clas = load_data(\"\", data_clas_path, bs=bs, **{\"num_workers\" : 0})\n",
    "\n",
    "    # Define metrics\n",
    "    acc = partial(accuracy_thresh, thresh=thresh)\n",
    "    f_score = partial(fbeta, thresh=thresh)\n",
    "    metrics = [acc, f_score]\n",
    "\n",
    "    # Define model callbacks\n",
    "    early_stop = partial(EarlyStoppingCallback,\n",
    "                         monitor='fbeta',\n",
    "                         mode=\"max\",\n",
    "                         min_delta=0.001,\n",
    "                         patience=5)\n",
    "\n",
    "    callback_fns = [early_stop]\n",
    "\n",
    "    # Define classification model\n",
    "    learn_clas = text_classifier_learner(data_clas,\n",
    "                                         AWD_LSTM,\n",
    "                                         drop_mult=drop_mult,\n",
    "                                         metrics=metrics,\n",
    "                                         callback_fns=callback_fns).to_fp16()\n",
    "    learn_clas.load_encoder(encodings)\n",
    "    learn_clas.freeze()\n",
    "    \n",
    "    # Define training callback\n",
    "    model_name = f\"learn_clas_{version}_bs_{bs}_thresh_{thresh}_dropmult_{drop_mult}\"\n",
    "    save_best = SaveModelCallback(learn_clas,\n",
    "                                  every='improvement',\n",
    "                                  monitor=\"fbeta\",\n",
    "                                  mode=\"max\",\n",
    "                                  name=model_name)\n",
    "    callbacks = [save_best]\n",
    "\n",
    "    # Train\n",
    "    min_grad = get_min_grad(learn_clas)\n",
    "    learn_clas.fit_one_cycle(1, min_grad, callbacks=callbacks)\n",
    "    learn_clas.unfreeze()\n",
    "\n",
    "    min_grad = get_min_grad(learn_clas)\n",
    "    learn_clas.fit_one_cycle(epochs, slice(min_grad,min_grad*100), moms=(0.8,0.7), callbacks=callbacks)\n",
    "    \n",
    "    # Get f score\n",
    "    best_fbeta = max([i[1] for i in learn_clas.recorder.metrics]).item()\n",
    "    \n",
    "    params = {\"bs\": bs, \"thresh\" : thresh, \"drop_mult\" : drop_mult, \"epochs\" : epochs}\n",
    "    \n",
    "    context.log_result('fbeta', best_fbeta)\n",
    "    context.log_model(\"best_params\", body=json.dumps(params, indent=2).encode('utf-8'),\n",
    "                      artifact_path=context.artifact_subpath('models'),\n",
    "                      model_file=\"params.json\")"
   ]
  },
  {
   "cell_type": "code",
   "execution_count": 5,
   "metadata": {},
   "outputs": [],
   "source": [
    "# nuclio: end-code"
   ]
  },
  {
   "cell_type": "code",
   "execution_count": 6,
   "metadata": {},
   "outputs": [
    {
     "name": "stdout",
     "output_type": "stream",
     "text": [
      "Artifacts path: /User/nlp/components/jobs\n",
      "MLRun DB path: http://mlrun-api:8080\n"
     ]
    }
   ],
   "source": [
    "from mlrun import mlconf\n",
    "import os\n",
    "from os import path\n",
    "\n",
    "# Target location for storing pipeline artifacts\n",
    "artifact_path = path.abspath('../jobs')\n",
    "# MLRun DB path or API service URL\n",
    "mlconf.dbpath = mlconf.dbpath or 'http://mlrun-api:8080'\n",
    "\n",
    "print(f'Artifacts path: {artifact_path}\\nMLRun DB path: {mlconf.dbpath}')"
   ]
  },
  {
   "cell_type": "code",
   "execution_count": 7,
   "metadata": {},
   "outputs": [
    {
     "name": "stdout",
     "output_type": "stream",
     "text": [
      "> 2020-08-13 19:01:00,305 [info] function spec saved to path: ../yaml/hyper_clas.yaml\n"
     ]
    },
    {
     "data": {
      "text/plain": [
       "<mlrun.runtimes.kubejob.KubejobRuntime at 0x7f33ba3d4048>"
      ]
     },
     "execution_count": 7,
     "metadata": {},
     "output_type": "execute_result"
    }
   ],
   "source": [
    "from mlrun import code_to_function \n",
    "# create job function object from notebook code\n",
    "fn = code_to_function(\"hyper_param_clas_search\")\n",
    "\n",
    "# add metadata (for templates and reuse)\n",
    "fn.spec.default_handler = \"train_clas_model\"\n",
    "fn.spec.description = \"hyperparameter tuning for classification model\"\n",
    "fn.metadata.categories = [\"hyperparameter\", \"ml\"]\n",
    "fn.metadata.labels = {\"author\": \"nschenone\"}\n",
    "fn.spec.resources[\"limits\"] = {'nvidia.com/gpu' : 1}\n",
    "fn.export(\"../yaml/hyper_clas.yaml\")"
   ]
  },
  {
   "cell_type": "code",
   "execution_count": null,
   "metadata": {},
   "outputs": [],
   "source": []
  }
 ],
 "metadata": {
  "kernelspec": {
   "display_name": "Python 3",
   "language": "python",
   "name": "python3"
  },
  "language_info": {
   "codemirror_mode": {
    "name": "ipython",
    "version": 3
   },
   "file_extension": ".py",
   "mimetype": "text/x-python",
   "name": "python",
   "nbconvert_exporter": "python",
   "pygments_lexer": "ipython3",
   "version": "3.6.8"
  }
 },
 "nbformat": 4,
 "nbformat_minor": 4
}

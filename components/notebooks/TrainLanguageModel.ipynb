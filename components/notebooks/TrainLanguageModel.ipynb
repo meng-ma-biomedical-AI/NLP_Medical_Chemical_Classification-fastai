{
 "cells": [
  {
   "cell_type": "markdown",
   "metadata": {},
   "source": [
    "### Training for Language Model"
   ]
  },
  {
   "cell_type": "code",
   "execution_count": 1,
   "metadata": {},
   "outputs": [],
   "source": [
    "import nuclio"
   ]
  },
  {
   "cell_type": "code",
   "execution_count": 2,
   "metadata": {},
   "outputs": [],
   "source": [
    "# nuclio: start-code"
   ]
  },
  {
   "cell_type": "code",
   "execution_count": 3,
   "metadata": {},
   "outputs": [
    {
     "name": "stdout",
     "output_type": "stream",
     "text": [
      "%nuclio: setting spec.image to 'mlrun/ml-models-gpu'\n",
      "%nuclio: setting kind to 'job'\n"
     ]
    }
   ],
   "source": [
    "%nuclio config spec.image = \"mlrun/ml-models-gpu\"\n",
    "%nuclio config kind = \"job\""
   ]
  },
  {
   "cell_type": "code",
   "execution_count": 4,
   "metadata": {},
   "outputs": [],
   "source": [
    "from os import path\n",
    "import pandas as pd\n",
    "import numpy as np\n",
    "import random\n",
    "import fastai\n",
    "import json\n",
    "from fastai.text import *\n",
    "from fastai.callbacks import *\n",
    "torch.cuda.set_device(0)\n",
    "\n",
    "def get_min_grad(model):\n",
    "    model.lr_find(num_it=200)\n",
    "    model.recorder.plot(suggestion=True)\n",
    "    return model.recorder.min_grad_lr\n",
    "\n",
    "def train_lm_model(bs, drop_mult, epochs, num_samples, data_lm_path):\n",
    "    # Load data\n",
    "    version = f\"sample_{num_samples}\"\n",
    "    data_lm = load_data(\"\", str(data_lm_path), bs=bs)\n",
    "\n",
    "    # Define metrics\n",
    "    metrics = [accuracy]\n",
    "\n",
    "    # Define model callbacks\n",
    "    early_stop = partial(EarlyStoppingCallback,\n",
    "                         monitor='accuracy',\n",
    "                         mode=\"max\",\n",
    "                         min_delta=0.01,\n",
    "                         patience=5)\n",
    "\n",
    "    callback_fns = [early_stop]\n",
    "\n",
    "    # Define language model\n",
    "    learn_lm = language_model_learner(data_lm,\n",
    "                                      AWD_LSTM,\n",
    "                                      drop_mult=drop_mult,\n",
    "                                      metrics=metrics,\n",
    "                                      callback_fns=callback_fns).to_fp16()\n",
    "    \n",
    "    # Define training callback\n",
    "    model_name = f\"learn_lm_{version}_bs_{bs}_dropmult_{drop_mult}\"\n",
    "    model_enc_name = f\"learn_lm_enc_{version}_bs_{bs}_dropmult_{drop_mult}\"\n",
    "    save_best = SaveModelCallback(learn_lm,\n",
    "                                  every='improvement',\n",
    "                                  monitor=\"accuracy\",\n",
    "                                  mode=\"max\",\n",
    "                                  name=model_name)\n",
    "    callbacks = [save_best]\n",
    "\n",
    "    # Train\n",
    "    min_grad = get_min_grad(learn_lm)\n",
    "    learn_lm.fit_one_cycle(1, min_grad, callbacks=callbacks)\n",
    "    learn_lm.unfreeze()\n",
    "\n",
    "    min_grad = get_min_grad(learn_lm)\n",
    "    learn_lm.fit_one_cycle(epochs, slice(min_grad,min_grad*100), moms=(0.8,0.7), callbacks=callbacks)\n",
    "    \n",
    "    # Get accuracy\n",
    "    best_acc = max([i[0] for i in learn_lm.recorder.metrics]).item()\n",
    "    \n",
    "    # Load best model\n",
    "    learn_lm.load(model_name)\n",
    "    \n",
    "    return (best_acc, learn_lm)\n",
    "\n",
    "def train_lm(context, train_lm_epochs, data_lm_path, num_samples, hyper_lm_best_params_path):\n",
    "    \n",
    "    # Load best hyperparameters and update epochs for training\n",
    "    with open(str(hyper_lm_best_params_path) + \"params.json\", \"r+\") as f:\n",
    "        params = json.load(f)\n",
    "    params['epochs'] = int(str(train_lm_epochs))\n",
    "    params['num_samples'] = int(str(num_samples))\n",
    "    params['data_lm_path'] = str(data_lm_path)\n",
    "    \n",
    "    # Train model\n",
    "    best_acc, learn_lm = train_lm_model(**params)\n",
    "    \n",
    "    # Save model and encodings\n",
    "    model = \"/User/nlp/run/train_lm_model\"\n",
    "    model_enc = \"/User/nlp/run/train_lm_model_enc\"\n",
    "    learn_lm.save(model)\n",
    "    learn_lm.save_encoder(model_enc)\n",
    "\n",
    "    # Log outputs\n",
    "    context.log_result('train_lm_model', model)\n",
    "    context.log_result('train_lm_model_enc', model_enc)\n",
    "    \n",
    "    train_lm_accuracy_path = \"/User/nlp/run/train_lm_accuracy.txt\"\n",
    "    with open(train_lm_accuracy_path, \"w+\") as f:\n",
    "        f.write(str(best_acc))\n",
    "    context.log_result('train_lm_accuracy', train_lm_accuracy_path)"
   ]
  },
  {
   "cell_type": "code",
   "execution_count": 5,
   "metadata": {},
   "outputs": [],
   "source": [
    "# nuclio: end-code"
   ]
  },
  {
   "cell_type": "code",
   "execution_count": 6,
   "metadata": {},
   "outputs": [
    {
     "name": "stdout",
     "output_type": "stream",
     "text": [
      "Artifacts path: /User/nlp/components/jobs\n",
      "MLRun DB path: http://mlrun-api:8080\n"
     ]
    }
   ],
   "source": [
    "from mlrun import mlconf\n",
    "import os\n",
    "from os import path\n",
    "\n",
    "# Target location for storing pipeline artifacts\n",
    "artifact_path = path.abspath('../jobs')\n",
    "# MLRun DB path or API service URL\n",
    "mlconf.dbpath = mlconf.dbpath or 'http://mlrun-api:8080'\n",
    "\n",
    "print(f'Artifacts path: {artifact_path}\\nMLRun DB path: {mlconf.dbpath}')"
   ]
  },
  {
   "cell_type": "code",
   "execution_count": 7,
   "metadata": {},
   "outputs": [
    {
     "name": "stdout",
     "output_type": "stream",
     "text": [
      "> 2020-08-13 19:03:57,260 [info] function spec saved to path: ../yaml/train_lm.yaml\n"
     ]
    },
    {
     "data": {
      "text/plain": [
       "<mlrun.runtimes.kubejob.KubejobRuntime at 0x7f986c9d4080>"
      ]
     },
     "execution_count": 7,
     "metadata": {},
     "output_type": "execute_result"
    }
   ],
   "source": [
    "from mlrun import code_to_function \n",
    "# create job function object from notebook code\n",
    "fn = code_to_function(\"train_lm\")\n",
    "\n",
    "# add metadata (for templates and reuse)\n",
    "fn.spec.default_handler = \"train_lm\"\n",
    "fn.spec.description = \"training for language model\"\n",
    "fn.metadata.categories = [\"train\", \"ml\"]\n",
    "fn.metadata.labels = {\"author\": \"nschenone\"}\n",
    "fn.spec.resources[\"limits\"] = {'nvidia.com/gpu' : 1}\n",
    "fn.export(\"../yaml/train_lm.yaml\")"
   ]
  },
  {
   "cell_type": "code",
   "execution_count": null,
   "metadata": {},
   "outputs": [],
   "source": []
  }
 ],
 "metadata": {
  "kernelspec": {
   "display_name": "Python 3",
   "language": "python",
   "name": "python3"
  },
  "language_info": {
   "codemirror_mode": {
    "name": "ipython",
    "version": 3
   },
   "file_extension": ".py",
   "mimetype": "text/x-python",
   "name": "python",
   "nbconvert_exporter": "python",
   "pygments_lexer": "ipython3",
   "version": "3.6.8"
  }
 },
 "nbformat": 4,
 "nbformat_minor": 4
}

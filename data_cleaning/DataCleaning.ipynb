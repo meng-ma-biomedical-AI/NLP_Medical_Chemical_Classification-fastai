{
 "cells": [
  {
   "cell_type": "markdown",
   "metadata": {},
   "source": [
    "### Mine Dataset from XML files"
   ]
  },
  {
   "cell_type": "code",
   "execution_count": 1,
   "metadata": {},
   "outputs": [],
   "source": [
    "# import xml.etree.cElementTree as ET\n",
    "# from datetime import datetime\n",
    "# import pandas as pd\n",
    "# from glob import glob\n",
    "# import numpy as np\n",
    "# import os\n",
    "\n",
    "# data_files = sorted(glob(\"data/*.xml\"))\n",
    "# for i, file in enumerate(data_files):\n",
    "#     print(f\"Processing {i+1} out of {len(data_files)}\")\n",
    "    \n",
    "#     # Check for existing pickle\n",
    "#     if os.path.exists(f\"pickle/frame_{i+1}.pkl\"):\n",
    "#         continue\n",
    "    \n",
    "#     tree = ET.parse(file)\n",
    "\n",
    "#     root = tree.getroot() \n",
    "\n",
    "#     articles = root.findall(\"PubmedArticle\")\n",
    "\n",
    "#     data = []\n",
    "#     for article in articles:\n",
    "#         # Article Title\n",
    "#         try:\n",
    "#             title = article.find(\"MedlineCitation/Article/ArticleTitle\").text\n",
    "#         except:\n",
    "#             title = np.NaN\n",
    "\n",
    "#         # Original Publish Date\n",
    "#         try:\n",
    "#             date_orig = datetime(int(article.find(\"MedlineCitation/DateCompleted/Year\").text),\n",
    "#                                  int(article.find(\"MedlineCitation/DateCompleted/Month\").text),\n",
    "#                                  int(article.find(\"MedlineCitation/DateCompleted/Day\").text))\n",
    "#         except:\n",
    "#             date_orig = np.NaN\n",
    "\n",
    "#         # Revised Publish Date\n",
    "#         try:\n",
    "#             date_revised = datetime(int(article.find(\"MedlineCitation/DateRevised/Year\").text),\n",
    "#                                  int(article.find(\"MedlineCitation/DateRevised/Month\").text),\n",
    "#                                  int(article.find(\"MedlineCitation/DateRevised/Day\").text))\n",
    "#         except:\n",
    "#             date_revised = np.NaN\n",
    "\n",
    "#         # Journal Title\n",
    "#         try:\n",
    "#             journal = article.find(\"MedlineCitation/Article/Journal/Title\").text\n",
    "#         except:\n",
    "#             journal = np.NaN\n",
    "        \n",
    "#         # Authors\n",
    "#         try:\n",
    "#             authors = [i.find(\"LastName\").text + \", \" + i.find(\"ForeName\").text for i in article.findall(\"MedlineCitation/Article/AuthorList/Author\")]\n",
    "#         except:\n",
    "#             authors = np.NaN\n",
    "\n",
    "#         # Abstract\n",
    "#         try:\n",
    "#             abstract = [i.text for i in article.find(\"MedlineCitation/Article/Abstract\")][0]\n",
    "#         except:\n",
    "#             abstract = np.NaN\n",
    "\n",
    "#         # List of Chemicals\n",
    "#         try:\n",
    "#             chemicals = [i.text for i in article.findall(\"MedlineCitation/ChemicalList/Chemical/NameOfSubstance\")]\n",
    "            \n",
    "#             if len(chemicals) == 0:\n",
    "#                 chemicals = np.NaN\n",
    "#         except:\n",
    "#             chemicals = np.NaN\n",
    "\n",
    "#         data.append({'title': title,\n",
    "#                      'date_orig': date_orig,\n",
    "#                      'date_revised':date_revised,\n",
    "#                      'journal': journal,\n",
    "#                      'authors' : authors,\n",
    "#                      'abstract' : abstract,\n",
    "#                      'chemicals' : chemicals})\n",
    "\n",
    "#     df = pd.DataFrame(data)\n",
    "#     df.to_pickle(f\"pickle/frame_{i+1}.pkl\")"
   ]
  },
  {
   "cell_type": "markdown",
   "metadata": {},
   "source": [
    "### Build master df"
   ]
  },
  {
   "cell_type": "code",
   "execution_count": 11,
   "metadata": {},
   "outputs": [],
   "source": [
    "# from datetime import datetime\n",
    "# import pandas as pd\n",
    "# from glob import glob\n",
    "# import numpy as np\n",
    "# import os\n",
    "\n",
    "# pickles = sorted(glob(\"pickle/*.pkl\"))\n",
    "# dataframes = []\n",
    "# for i, file in enumerate(pickles):\n",
    "#     print(f\"Processing {i+1} out of {len(pickles)}\")\n",
    "#     df = pd.read_pickle(file)\n",
    "#     dataframes.append(df)\n",
    "# master_df = pd.concat(dataframes)\n",
    "# master_df.to_pickle(f\"pickle/master_frame.pkl\")"
   ]
  },
  {
   "cell_type": "markdown",
   "metadata": {},
   "source": [
    "### Naively Drop N/A"
   ]
  },
  {
   "cell_type": "code",
   "execution_count": 18,
   "metadata": {},
   "outputs": [],
   "source": [
    "# master_df_dropped = master_df.dropna()\n",
    "# master_df_dropped.to_pickle(f\"pickle/master_frame_dropped.pkl\")"
   ]
  },
  {
   "cell_type": "markdown",
   "metadata": {},
   "source": [
    "### Transfer learn from wikipedia model"
   ]
  },
  {
   "cell_type": "code",
   "execution_count": 1,
   "metadata": {},
   "outputs": [],
   "source": [
    "import fastai"
   ]
  },
  {
   "cell_type": "code",
   "execution_count": null,
   "metadata": {},
   "outputs": [],
   "source": []
  }
 ],
 "metadata": {
  "kernelspec": {
   "display_name": "Python 3",
   "language": "python",
   "name": "python3"
  },
  "language_info": {
   "codemirror_mode": {
    "name": "ipython",
    "version": 3
   },
   "file_extension": ".py",
   "mimetype": "text/x-python",
   "name": "python",
   "nbconvert_exporter": "python",
   "pygments_lexer": "ipython3",
   "version": "3.6.8"
  }
 },
 "nbformat": 4,
 "nbformat_minor": 4
}
